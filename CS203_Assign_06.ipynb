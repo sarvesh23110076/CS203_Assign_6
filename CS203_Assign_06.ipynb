{
  "cells": [
    {
      "cell_type": "markdown",
      "metadata": {
        "id": "view-in-github",
        "colab_type": "text"
      },
      "source": [
        "<a href=\"https://colab.research.google.com/github/sarvesh23110076/CS203_Assign_6/blob/main/CS203_Assign_06.ipynb\" target=\"_parent\"><img src=\"https://colab.research.google.com/assets/colab-badge.svg\" alt=\"Open In Colab\"/></a>"
      ]
    },
    {
      "cell_type": "markdown",
      "source": [
        "<B>CS203 : Software Tools and Techniques fo AI </B><br>\n",
        "<B>LAB6 Assignment</B><br>\n",
        "\n",
        "---\n",
        "\n",
        "\n",
        "<B>Group Number : 08<Br>\n",
        "<B>Group Members :</B><br>\n",
        "<B>Sarvesh Pravin Chaudhari (<I>23110076</I>)<br>\n",
        "Afraz Azeem (<I>23110019</I>)<B>"
      ],
      "metadata": {
        "id": "hamdMTbOqYA6"
      }
    },
    {
      "cell_type": "markdown",
      "source": [
        "<B>Section 1: MLP Model Implementation & Experiment Tracking</B>"
      ],
      "metadata": {
        "id": "XaDxgJhsq7uv"
      }
    },
    {
      "cell_type": "markdown",
      "source": [
        "<B><I>1. Implement a Multi-Layer Perceptron (MLP) Using the Iris Dataset (05%)</I></B>"
      ],
      "metadata": {
        "id": "HnPaCTgyrScO"
      }
    },
    {
      "cell_type": "code",
      "execution_count": null,
      "metadata": {
        "id": "CQzzE1COr-_Y"
      },
      "outputs": [],
      "source": [
        "import torch\n",
        "import numpy as np\n",
        "import matplotlib.pyplot as plt\n",
        "import sklearn\n",
        "from sklearn.model_selection import train_test_split"
      ]
    },
    {
      "cell_type": "markdown",
      "source": [
        "Load the Iris dataset using sklearn.datasets.load_iris"
      ],
      "metadata": {
        "id": "wtj3uBJRrOX0"
      }
    },
    {
      "cell_type": "code",
      "execution_count": null,
      "metadata": {
        "id": "VEWu705msRUl"
      },
      "outputs": [],
      "source": [
        "dataset=sklearn.datasets.load_iris()"
      ]
    },
    {
      "cell_type": "markdown",
      "source": [
        "Extract features and labels, ensuring labels are one-hot encoded."
      ],
      "metadata": {
        "id": "PVrgFnnLrT9p"
      }
    },
    {
      "cell_type": "code",
      "execution_count": null,
      "metadata": {
        "id": "lgT6e_7CsVj7"
      },
      "outputs": [],
      "source": [
        "X=dataset['data']\n",
        "y=dataset['target']\n",
        "names=dataset['target_names']"
      ]
    },
    {
      "cell_type": "markdown",
      "source": [
        "Split the dataset into:\n",
        "Training set: 70%\n",
        "Validation set: 10%\n",
        "Testing set: 20%.\n"
      ],
      "metadata": {
        "id": "7iQomzVsrXe6"
      }
    },
    {
      "cell_type": "code",
      "execution_count": null,
      "metadata": {
        "id": "7LNgu3CzsrCP",
        "colab": {
          "base_uri": "https://localhost:8080/"
        },
        "outputId": "e12d17f4-bbb4-473f-c961-f665650c6a1f"
      },
      "outputs": [
        {
          "output_type": "execute_result",
          "data": {
            "text/plain": [
              "((105, 4), (15, 4), (30, 4))"
            ]
          },
          "metadata": {},
          "execution_count": 85
        }
      ],
      "source": [
        "X_train,X_test,y_train,y_test=train_test_split(X,y,test_size=0.2,random_state=32)\n",
        "X_train,X_valid,y_train,y_valid=train_test_split(X_train,y_train,test_size=0.125,random_state=32)\n",
        "\n",
        "X_train.shape,X_valid.shape,X_test.shape"
      ]
    },
    {
      "cell_type": "markdown",
      "source": [
        "Normalize feature values to [0,1] using standard scaling."
      ],
      "metadata": {
        "id": "G_ao-T1SrdpA"
      }
    },
    {
      "cell_type": "code",
      "execution_count": null,
      "metadata": {
        "id": "GPghhlxvtsRj"
      },
      "outputs": [],
      "source": [
        "from sklearn import preprocessing\n",
        "\n",
        "def preprocessing_data(data):\n",
        "  scaling_model=preprocessing.StandardScaler()\n",
        "  scaling_model=scaling_model.fit(data)\n",
        "  return scaling_model.transform(data)\n",
        "\n",
        "X_train=preprocessing_data(X_train)\n",
        "X_valid=preprocessing_data(X_valid)\n",
        "X_test=preprocessing_data(X_test)\n",
        "\n",
        "X_train,y_train=torch.tensor(X_train).float(),torch.tensor(y_train).long()\n",
        "X_valid,y_valid=torch.tensor(X_valid).float(),torch.tensor(y_valid).long()\n",
        "X_test,y_test=torch.tensor(X_test).float(),torch.tensor(y_test).long()"
      ]
    },
    {
      "cell_type": "markdown",
      "source": [
        "<B><I>2. Define and Train the MLP Model (05%)</I></B>\n"
      ],
      "metadata": {
        "id": "XauKq__RrgM-"
      }
    },
    {
      "cell_type": "markdown",
      "source": [
        "Construct a Multi-Layer Perceptron (MLP) model with the following architecture:<br>\n",
        "- Input layer: 4 neurons (for 4 features).<br>\n",
        "- Hidden layer: 16 neurons, ReLU activation.<br>\n",
        "- Output layer: 3 neurons (for each class), softmax activation.\n"
      ],
      "metadata": {
        "id": "J8ztHYD9riTX"
      }
    },
    {
      "cell_type": "code",
      "execution_count": null,
      "metadata": {
        "id": "60WoMoMUv72V"
      },
      "outputs": [],
      "source": [
        "class MLP(torch.nn.Module):\n",
        "  def __init__(self,infeatures,outfeatures):\n",
        "    super(MLP,self).__init__()\n",
        "    self.layer1=torch.nn.Sequential(\n",
        "        torch.nn.Linear(in_features=infeatures,out_features=16),\n",
        "        torch.nn.ReLU()\n",
        "    )\n",
        "    self.layer2=torch.nn.Sequential(\n",
        "        torch.nn.Linear(in_features=16,out_features=outfeatures),\n",
        "        torch.nn.Softmax(dim=1)\n",
        "    )\n",
        "  def forward(self,x):\n",
        "    x=self.layer1(x)\n",
        "    x=self.layer2(x)\n",
        "    return x"
      ]
    },
    {
      "cell_type": "code",
      "execution_count": null,
      "metadata": {
        "colab": {
          "base_uri": "https://localhost:8080/"
        },
        "id": "pngIj5YSw1s8",
        "outputId": "fc1a1dcf-86cc-4fd1-b439-38fe1544d566"
      },
      "outputs": [
        {
          "output_type": "execute_result",
          "data": {
            "text/plain": [
              "MLP(\n",
              "  (layer1): Sequential(\n",
              "    (0): Linear(in_features=4, out_features=16, bias=True)\n",
              "    (1): ReLU()\n",
              "  )\n",
              "  (layer2): Sequential(\n",
              "    (0): Linear(in_features=16, out_features=3, bias=True)\n",
              "    (1): Softmax(dim=1)\n",
              "  )\n",
              ")"
            ]
          },
          "metadata": {},
          "execution_count": 88
        }
      ],
      "source": [
        "number_of_features=X_train.shape[1]\n",
        "number_of_classes=len(dataset['target_names'])\n",
        "\n",
        "model=MLP(number_of_features,number_of_classes)\n",
        "model"
      ]
    },
    {
      "cell_type": "markdown",
      "source": [
        "Train using:<br>\n",
        "Loss function: Categorical cross-entropy.<br>\n",
        "Optimizer: Adam.<br>\n",
        "Learning rate: 0.001.<br>\n",
        "Batch size: 32.<br>\n",
        "Epochs: 50.<br>"
      ],
      "metadata": {
        "id": "hHY_DVSrrlhd"
      }
    },
    {
      "cell_type": "code",
      "execution_count": null,
      "metadata": {
        "id": "Eq63cFQHxCki"
      },
      "outputs": [],
      "source": [
        "from torch.utils.data import TensorDataset,DataLoader\n",
        "\n",
        "def train(model,train_dataset,valid_dataset,epochs,lr,batchsize):\n",
        "  criterion=torch.nn.CrossEntropyLoss()\n",
        "  optimizer=torch.optim.Adam(model.parameters(),lr=lr)\n",
        "  train_loader=DataLoader(train_dataset,batch_size=batchsize,shuffle=True)\n",
        "  valid_loader=DataLoader(valid_dataset,batch_size=batchsize,shuffle=True)\n",
        "\n",
        "  loss_train=[]\n",
        "  loss_valid=[]\n",
        "\n",
        "  for epoch in range(epochs):\n",
        "    model.train()\n",
        "    trainloss=0\n",
        "    for X_features,y_labels in train_loader:\n",
        "      X_features = X_features.requires_grad_()\n",
        "      optimizer.zero_grad()\n",
        "      output=model(X_features)\n",
        "      loss=criterion(output,y_labels)\n",
        "      loss.backward()\n",
        "      optimizer.step()\n",
        "      trainloss+=loss.item()\n",
        "    loss_train.append(trainloss/len(train_loader))\n",
        "\n",
        "    model.eval()\n",
        "    validloss=0\n",
        "    with torch.no_grad():\n",
        "      for X_features,y_labels in valid_loader:\n",
        "        output=model(X_features)\n",
        "        loss=criterion(output,y_labels)\n",
        "        validloss+=loss.item()\n",
        "      loss_valid.append(validloss/len(valid_loader))\n",
        "\n",
        "  return model,loss_train,loss_valid"
      ]
    },
    {
      "cell_type": "markdown",
      "source": [
        "Track and store both training and validation loss during training."
      ],
      "metadata": {
        "id": "fTt4CMNTroZB"
      }
    },
    {
      "cell_type": "code",
      "execution_count": null,
      "metadata": {
        "id": "IHhNxrrv52Ci"
      },
      "outputs": [],
      "source": [
        "model,train_loss,valid_loss=train(model,TensorDataset(X_train,y_train),TensorDataset(X_valid,y_valid),500,0.001,32)\n",
        "\n",
        "model.eval()\n",
        "with torch.no_grad():\n",
        "  output=model(X_test)\n",
        "  _,predict=torch.max(output,axis=1)"
      ]
    },
    {
      "cell_type": "markdown",
      "source": [
        "<I><B>3. Evaluate Model Performance (10%)</I></B><br>\n",
        "\n",
        "Compute and store the following metrics using the test set:<br>\n",
        "- Accuracy<br>\n",
        "- Precision<br>\n",
        "- Recall<br>\n",
        "- F1-score<br>\n",
        "- Confusion matrix (visualized using Matplotlib).\n"
      ],
      "metadata": {
        "id": "b0_tZ7buru-q"
      }
    },
    {
      "cell_type": "code",
      "execution_count": null,
      "metadata": {
        "colab": {
          "base_uri": "https://localhost:8080/",
          "height": 206
        },
        "id": "vtkvFQuonoIC",
        "outputId": "109b9e5e-2f86-4e66-a2db-3623e4812203"
      },
      "outputs": [
        {
          "output_type": "execute_result",
          "data": {
            "text/plain": [
              "             Values\n",
              "Metrics            \n",
              "Accuracy   0.933333\n",
              "Precision  0.945455\n",
              "Recall     0.933333\n",
              "F1-score   0.932500"
            ],
            "text/html": [
              "\n",
              "  <div id=\"df-af60cc1c-2ba4-417a-aec2-af0b268126f5\" class=\"colab-df-container\">\n",
              "    <div>\n",
              "<style scoped>\n",
              "    .dataframe tbody tr th:only-of-type {\n",
              "        vertical-align: middle;\n",
              "    }\n",
              "\n",
              "    .dataframe tbody tr th {\n",
              "        vertical-align: top;\n",
              "    }\n",
              "\n",
              "    .dataframe thead th {\n",
              "        text-align: right;\n",
              "    }\n",
              "</style>\n",
              "<table border=\"1\" class=\"dataframe\">\n",
              "  <thead>\n",
              "    <tr style=\"text-align: right;\">\n",
              "      <th></th>\n",
              "      <th>Values</th>\n",
              "    </tr>\n",
              "    <tr>\n",
              "      <th>Metrics</th>\n",
              "      <th></th>\n",
              "    </tr>\n",
              "  </thead>\n",
              "  <tbody>\n",
              "    <tr>\n",
              "      <th>Accuracy</th>\n",
              "      <td>0.933333</td>\n",
              "    </tr>\n",
              "    <tr>\n",
              "      <th>Precision</th>\n",
              "      <td>0.945455</td>\n",
              "    </tr>\n",
              "    <tr>\n",
              "      <th>Recall</th>\n",
              "      <td>0.933333</td>\n",
              "    </tr>\n",
              "    <tr>\n",
              "      <th>F1-score</th>\n",
              "      <td>0.932500</td>\n",
              "    </tr>\n",
              "  </tbody>\n",
              "</table>\n",
              "</div>\n",
              "    <div class=\"colab-df-buttons\">\n",
              "\n",
              "  <div class=\"colab-df-container\">\n",
              "    <button class=\"colab-df-convert\" onclick=\"convertToInteractive('df-af60cc1c-2ba4-417a-aec2-af0b268126f5')\"\n",
              "            title=\"Convert this dataframe to an interactive table.\"\n",
              "            style=\"display:none;\">\n",
              "\n",
              "  <svg xmlns=\"http://www.w3.org/2000/svg\" height=\"24px\" viewBox=\"0 -960 960 960\">\n",
              "    <path d=\"M120-120v-720h720v720H120Zm60-500h600v-160H180v160Zm220 220h160v-160H400v160Zm0 220h160v-160H400v160ZM180-400h160v-160H180v160Zm440 0h160v-160H620v160ZM180-180h160v-160H180v160Zm440 0h160v-160H620v160Z\"/>\n",
              "  </svg>\n",
              "    </button>\n",
              "\n",
              "  <style>\n",
              "    .colab-df-container {\n",
              "      display:flex;\n",
              "      gap: 12px;\n",
              "    }\n",
              "\n",
              "    .colab-df-convert {\n",
              "      background-color: #E8F0FE;\n",
              "      border: none;\n",
              "      border-radius: 50%;\n",
              "      cursor: pointer;\n",
              "      display: none;\n",
              "      fill: #1967D2;\n",
              "      height: 32px;\n",
              "      padding: 0 0 0 0;\n",
              "      width: 32px;\n",
              "    }\n",
              "\n",
              "    .colab-df-convert:hover {\n",
              "      background-color: #E2EBFA;\n",
              "      box-shadow: 0px 1px 2px rgba(60, 64, 67, 0.3), 0px 1px 3px 1px rgba(60, 64, 67, 0.15);\n",
              "      fill: #174EA6;\n",
              "    }\n",
              "\n",
              "    .colab-df-buttons div {\n",
              "      margin-bottom: 4px;\n",
              "    }\n",
              "\n",
              "    [theme=dark] .colab-df-convert {\n",
              "      background-color: #3B4455;\n",
              "      fill: #D2E3FC;\n",
              "    }\n",
              "\n",
              "    [theme=dark] .colab-df-convert:hover {\n",
              "      background-color: #434B5C;\n",
              "      box-shadow: 0px 1px 3px 1px rgba(0, 0, 0, 0.15);\n",
              "      filter: drop-shadow(0px 1px 2px rgba(0, 0, 0, 0.3));\n",
              "      fill: #FFFFFF;\n",
              "    }\n",
              "  </style>\n",
              "\n",
              "    <script>\n",
              "      const buttonEl =\n",
              "        document.querySelector('#df-af60cc1c-2ba4-417a-aec2-af0b268126f5 button.colab-df-convert');\n",
              "      buttonEl.style.display =\n",
              "        google.colab.kernel.accessAllowed ? 'block' : 'none';\n",
              "\n",
              "      async function convertToInteractive(key) {\n",
              "        const element = document.querySelector('#df-af60cc1c-2ba4-417a-aec2-af0b268126f5');\n",
              "        const dataTable =\n",
              "          await google.colab.kernel.invokeFunction('convertToInteractive',\n",
              "                                                    [key], {});\n",
              "        if (!dataTable) return;\n",
              "\n",
              "        const docLinkHtml = 'Like what you see? Visit the ' +\n",
              "          '<a target=\"_blank\" href=https://colab.research.google.com/notebooks/data_table.ipynb>data table notebook</a>'\n",
              "          + ' to learn more about interactive tables.';\n",
              "        element.innerHTML = '';\n",
              "        dataTable['output_type'] = 'display_data';\n",
              "        await google.colab.output.renderOutput(dataTable, element);\n",
              "        const docLink = document.createElement('div');\n",
              "        docLink.innerHTML = docLinkHtml;\n",
              "        element.appendChild(docLink);\n",
              "      }\n",
              "    </script>\n",
              "  </div>\n",
              "\n",
              "\n",
              "<div id=\"df-22fbd24c-dd34-4295-aa0d-71345d66ee05\">\n",
              "  <button class=\"colab-df-quickchart\" onclick=\"quickchart('df-22fbd24c-dd34-4295-aa0d-71345d66ee05')\"\n",
              "            title=\"Suggest charts\"\n",
              "            style=\"display:none;\">\n",
              "\n",
              "<svg xmlns=\"http://www.w3.org/2000/svg\" height=\"24px\"viewBox=\"0 0 24 24\"\n",
              "     width=\"24px\">\n",
              "    <g>\n",
              "        <path d=\"M19 3H5c-1.1 0-2 .9-2 2v14c0 1.1.9 2 2 2h14c1.1 0 2-.9 2-2V5c0-1.1-.9-2-2-2zM9 17H7v-7h2v7zm4 0h-2V7h2v10zm4 0h-2v-4h2v4z\"/>\n",
              "    </g>\n",
              "</svg>\n",
              "  </button>\n",
              "\n",
              "<style>\n",
              "  .colab-df-quickchart {\n",
              "      --bg-color: #E8F0FE;\n",
              "      --fill-color: #1967D2;\n",
              "      --hover-bg-color: #E2EBFA;\n",
              "      --hover-fill-color: #174EA6;\n",
              "      --disabled-fill-color: #AAA;\n",
              "      --disabled-bg-color: #DDD;\n",
              "  }\n",
              "\n",
              "  [theme=dark] .colab-df-quickchart {\n",
              "      --bg-color: #3B4455;\n",
              "      --fill-color: #D2E3FC;\n",
              "      --hover-bg-color: #434B5C;\n",
              "      --hover-fill-color: #FFFFFF;\n",
              "      --disabled-bg-color: #3B4455;\n",
              "      --disabled-fill-color: #666;\n",
              "  }\n",
              "\n",
              "  .colab-df-quickchart {\n",
              "    background-color: var(--bg-color);\n",
              "    border: none;\n",
              "    border-radius: 50%;\n",
              "    cursor: pointer;\n",
              "    display: none;\n",
              "    fill: var(--fill-color);\n",
              "    height: 32px;\n",
              "    padding: 0;\n",
              "    width: 32px;\n",
              "  }\n",
              "\n",
              "  .colab-df-quickchart:hover {\n",
              "    background-color: var(--hover-bg-color);\n",
              "    box-shadow: 0 1px 2px rgba(60, 64, 67, 0.3), 0 1px 3px 1px rgba(60, 64, 67, 0.15);\n",
              "    fill: var(--button-hover-fill-color);\n",
              "  }\n",
              "\n",
              "  .colab-df-quickchart-complete:disabled,\n",
              "  .colab-df-quickchart-complete:disabled:hover {\n",
              "    background-color: var(--disabled-bg-color);\n",
              "    fill: var(--disabled-fill-color);\n",
              "    box-shadow: none;\n",
              "  }\n",
              "\n",
              "  .colab-df-spinner {\n",
              "    border: 2px solid var(--fill-color);\n",
              "    border-color: transparent;\n",
              "    border-bottom-color: var(--fill-color);\n",
              "    animation:\n",
              "      spin 1s steps(1) infinite;\n",
              "  }\n",
              "\n",
              "  @keyframes spin {\n",
              "    0% {\n",
              "      border-color: transparent;\n",
              "      border-bottom-color: var(--fill-color);\n",
              "      border-left-color: var(--fill-color);\n",
              "    }\n",
              "    20% {\n",
              "      border-color: transparent;\n",
              "      border-left-color: var(--fill-color);\n",
              "      border-top-color: var(--fill-color);\n",
              "    }\n",
              "    30% {\n",
              "      border-color: transparent;\n",
              "      border-left-color: var(--fill-color);\n",
              "      border-top-color: var(--fill-color);\n",
              "      border-right-color: var(--fill-color);\n",
              "    }\n",
              "    40% {\n",
              "      border-color: transparent;\n",
              "      border-right-color: var(--fill-color);\n",
              "      border-top-color: var(--fill-color);\n",
              "    }\n",
              "    60% {\n",
              "      border-color: transparent;\n",
              "      border-right-color: var(--fill-color);\n",
              "    }\n",
              "    80% {\n",
              "      border-color: transparent;\n",
              "      border-right-color: var(--fill-color);\n",
              "      border-bottom-color: var(--fill-color);\n",
              "    }\n",
              "    90% {\n",
              "      border-color: transparent;\n",
              "      border-bottom-color: var(--fill-color);\n",
              "    }\n",
              "  }\n",
              "</style>\n",
              "\n",
              "  <script>\n",
              "    async function quickchart(key) {\n",
              "      const quickchartButtonEl =\n",
              "        document.querySelector('#' + key + ' button');\n",
              "      quickchartButtonEl.disabled = true;  // To prevent multiple clicks.\n",
              "      quickchartButtonEl.classList.add('colab-df-spinner');\n",
              "      try {\n",
              "        const charts = await google.colab.kernel.invokeFunction(\n",
              "            'suggestCharts', [key], {});\n",
              "      } catch (error) {\n",
              "        console.error('Error during call to suggestCharts:', error);\n",
              "      }\n",
              "      quickchartButtonEl.classList.remove('colab-df-spinner');\n",
              "      quickchartButtonEl.classList.add('colab-df-quickchart-complete');\n",
              "    }\n",
              "    (() => {\n",
              "      let quickchartButtonEl =\n",
              "        document.querySelector('#df-22fbd24c-dd34-4295-aa0d-71345d66ee05 button');\n",
              "      quickchartButtonEl.style.display =\n",
              "        google.colab.kernel.accessAllowed ? 'block' : 'none';\n",
              "    })();\n",
              "  </script>\n",
              "</div>\n",
              "\n",
              "  <div id=\"id_940cb119-e908-4d8a-8424-9837bc2b2933\">\n",
              "    <style>\n",
              "      .colab-df-generate {\n",
              "        background-color: #E8F0FE;\n",
              "        border: none;\n",
              "        border-radius: 50%;\n",
              "        cursor: pointer;\n",
              "        display: none;\n",
              "        fill: #1967D2;\n",
              "        height: 32px;\n",
              "        padding: 0 0 0 0;\n",
              "        width: 32px;\n",
              "      }\n",
              "\n",
              "      .colab-df-generate:hover {\n",
              "        background-color: #E2EBFA;\n",
              "        box-shadow: 0px 1px 2px rgba(60, 64, 67, 0.3), 0px 1px 3px 1px rgba(60, 64, 67, 0.15);\n",
              "        fill: #174EA6;\n",
              "      }\n",
              "\n",
              "      [theme=dark] .colab-df-generate {\n",
              "        background-color: #3B4455;\n",
              "        fill: #D2E3FC;\n",
              "      }\n",
              "\n",
              "      [theme=dark] .colab-df-generate:hover {\n",
              "        background-color: #434B5C;\n",
              "        box-shadow: 0px 1px 3px 1px rgba(0, 0, 0, 0.15);\n",
              "        filter: drop-shadow(0px 1px 2px rgba(0, 0, 0, 0.3));\n",
              "        fill: #FFFFFF;\n",
              "      }\n",
              "    </style>\n",
              "    <button class=\"colab-df-generate\" onclick=\"generateWithVariable('data')\"\n",
              "            title=\"Generate code using this dataframe.\"\n",
              "            style=\"display:none;\">\n",
              "\n",
              "  <svg xmlns=\"http://www.w3.org/2000/svg\" height=\"24px\"viewBox=\"0 0 24 24\"\n",
              "       width=\"24px\">\n",
              "    <path d=\"M7,19H8.4L18.45,9,17,7.55,7,17.6ZM5,21V16.75L18.45,3.32a2,2,0,0,1,2.83,0l1.4,1.43a1.91,1.91,0,0,1,.58,1.4,1.91,1.91,0,0,1-.58,1.4L9.25,21ZM18.45,9,17,7.55Zm-12,3A5.31,5.31,0,0,0,4.9,8.1,5.31,5.31,0,0,0,1,6.5,5.31,5.31,0,0,0,4.9,4.9,5.31,5.31,0,0,0,6.5,1,5.31,5.31,0,0,0,8.1,4.9,5.31,5.31,0,0,0,12,6.5,5.46,5.46,0,0,0,6.5,12Z\"/>\n",
              "  </svg>\n",
              "    </button>\n",
              "    <script>\n",
              "      (() => {\n",
              "      const buttonEl =\n",
              "        document.querySelector('#id_940cb119-e908-4d8a-8424-9837bc2b2933 button.colab-df-generate');\n",
              "      buttonEl.style.display =\n",
              "        google.colab.kernel.accessAllowed ? 'block' : 'none';\n",
              "\n",
              "      buttonEl.onclick = () => {\n",
              "        google.colab.notebook.generateWithVariable('data');\n",
              "      }\n",
              "      })();\n",
              "    </script>\n",
              "  </div>\n",
              "\n",
              "    </div>\n",
              "  </div>\n"
            ],
            "application/vnd.google.colaboratory.intrinsic+json": {
              "type": "dataframe",
              "variable_name": "data",
              "summary": "{\n  \"name\": \"data\",\n  \"rows\": 4,\n  \"fields\": [\n    {\n      \"column\": \"Metrics\",\n      \"properties\": {\n        \"dtype\": \"string\",\n        \"num_unique_values\": 4,\n        \"samples\": [\n          \"Precision\",\n          \"F1-score\",\n          \"Accuracy\"\n        ],\n        \"semantic_type\": \"\",\n        \"description\": \"\"\n      }\n    },\n    {\n      \"column\": \"Values\",\n      \"properties\": {\n        \"dtype\": \"number\",\n        \"std\": 0.006211928735623707,\n        \"min\": 0.9325,\n        \"max\": 0.9454545454545454,\n        \"num_unique_values\": 3,\n        \"samples\": [\n          0.9333333333333333,\n          0.9454545454545454,\n          0.9325\n        ],\n        \"semantic_type\": \"\",\n        \"description\": \"\"\n      }\n    }\n  ]\n}"
            }
          },
          "metadata": {},
          "execution_count": 91
        }
      ],
      "source": [
        "from sklearn.metrics import accuracy_score,precision_score,recall_score,f1_score\n",
        "import pandas as pd\n",
        "\n",
        "def metrics_data(truth,prediction):\n",
        "  accuracy=accuracy_score(y_pred=prediction,y_true=truth)\n",
        "  precision=precision_score(y_pred=prediction,y_true=truth,average='weighted')\n",
        "  recall=recall_score(y_pred=prediction,y_true=truth,average='weighted')\n",
        "  f1_score_value=f1_score(y_pred=prediction,y_true=truth,average='weighted')\n",
        "  return [accuracy,precision,recall,f1_score_value]\n",
        "\n",
        "metrics=metrics_data(y_test,predict)\n",
        "labels=['Accuracy','Precision','Recall','F1-score']\n",
        "dic={\n",
        "    'Metrics':labels,\n",
        "    'Values':metrics\n",
        "}\n",
        "data=pd.DataFrame(dic).set_index('Metrics')\n",
        "data"
      ]
    },
    {
      "cell_type": "code",
      "execution_count": null,
      "metadata": {
        "colab": {
          "base_uri": "https://localhost:8080/",
          "height": 564
        },
        "id": "wZVcmoaspw-D",
        "outputId": "684bbaba-204e-4bb8-a9b9-7c6cd84d0cd9"
      },
      "outputs": [
        {
          "output_type": "display_data",
          "data": {
            "text/plain": [
              "<Figure size 800x600 with 2 Axes>"
            ],
            "image/png": "[encoded data removed]"
          },
          "metadata": {}
        }
      ],
      "source": [
        "from sklearn.metrics import confusion_matrix\n",
        "import seaborn as sns\n",
        "\n",
        "def plot_confusion_matrix(truth,prediction,class_names):\n",
        "    cm = confusion_matrix(truth, prediction)\n",
        "    plt.figure(figsize=(8, 6))\n",
        "    sns.heatmap(cm,annot=True,fmt='d',cmap='viridis',xticklabels=class_names,yticklabels=class_names)\n",
        "    plt.xlabel('Predicted')\n",
        "    plt.ylabel('Actual')\n",
        "    plt.title('Confusion Matrix')\n",
        "    plt.show()\n",
        "\n",
        "plot_confusion_matrix(y_test,predict,class_names=names)"
      ]
    },
    {
      "cell_type": "markdown",
      "source": [
        "Plot training and validation loss curves over epochs using Matplotlib.\n"
      ],
      "metadata": {
        "id": "0_p64_BTr1mp"
      }
    },
    {
      "cell_type": "code",
      "execution_count": null,
      "metadata": {
        "colab": {
          "base_uri": "https://localhost:8080/",
          "height": 427
        },
        "id": "fRRcw71mrtBH",
        "outputId": "9316660e-a105-4c04-d523-8de0fbcf07a3"
      },
      "outputs": [
        {
          "output_type": "display_data",
          "data": {
            "text/plain": [
              "<Figure size 2000x500 with 2 Axes>"
            ],
            "image/png": "[encoded data removed]"
          },
          "metadata": {}
        }
      ],
      "source": [
        "import numpy as np\n",
        "import matplotlib.pyplot as plt\n",
        "\n",
        "x=np.arange(0,500)\n",
        "train_loss=np.array(train_loss)\n",
        "valid_loss=np.array(valid_loss)\n",
        "\n",
        "fig,axs=plt.subplots(1,2,figsize=(20,5))  # Two subplots (2 rows, 1 column)\n",
        "\n",
        "# Plot training loss\n",
        "axs[0].plot(x,train_loss,label='Training Loss',color='blue')\n",
        "axs[0].set_title('Training Loss')\n",
        "axs[0].set_xlabel('Epochs')\n",
        "axs[0].set_ylabel('Loss')\n",
        "axs[0].set_ylim(ymin=train_loss[np.argmin(train_loss)]-0.01,ymax=train_loss[np.argmax(train_loss)]+0.01)\n",
        "axs[0].legend()\n",
        "axs[0].grid()\n",
        "\n",
        "# Plot validation loss\n",
        "axs[1].plot(x,valid_loss,label='Validation Loss',color='red')\n",
        "axs[1].set_title('Validation Loss')\n",
        "axs[1].set_xlabel('Epochs')\n",
        "axs[1].set_ylabel('Loss')\n",
        "axs[1].set_ylim(ymin=valid_loss[np.argmin(valid_loss)]-(1e-6),ymax=valid_loss[np.argmax(valid_loss)]+(1e-6))\n",
        "axs[1].legend()\n",
        "axs[1].grid()\n",
        "plt.show()\n",
        "\n"
      ]
    },
    {
      "cell_type": "markdown",
      "source": [
        "\n",
        "<I><B>4. Set Up Experiment Tracking with Weights & Biases (W&B) (30 %)\n"
      ],
      "metadata": {
        "id": "_hWUcJdor4Au"
      }
    },
    {
      "cell_type": "code",
      "execution_count": null,
      "metadata": {
        "colab": {
          "base_uri": "https://localhost:8080/"
        },
        "id": "k5L07LtOuah_",
        "outputId": "c069bc76-5fac-420f-d3d2-56a541bc6fd2"
      },
      "outputs": [
        {
          "output_type": "stream",
          "name": "stdout",
          "text": [
            "Requirement already satisfied: wandb in /usr/local/lib/python3.11/dist-packages (0.19.6)\n",
            "Requirement already satisfied: click!=8.0.0,>=7.1 in /usr/local/lib/python3.11/dist-packages (from wandb) (8.1.8)\n",
            "Requirement already satisfied: docker-pycreds>=0.4.0 in /usr/local/lib/python3.11/dist-packages (from wandb) (0.4.0)\n",
            "Requirement already satisfied: gitpython!=3.1.29,>=1.0.0 in /usr/local/lib/python3.11/dist-packages (from wandb) (3.1.44)\n",
            "Requirement already satisfied: platformdirs in /usr/local/lib/python3.11/dist-packages (from wandb) (4.3.6)\n",
            "Requirement already satisfied: protobuf!=4.21.0,!=5.28.0,<6,>=3.19.0 in /usr/local/lib/python3.11/dist-packages (from wandb) (4.25.6)\n",
            "Requirement already satisfied: psutil>=5.0.0 in /usr/local/lib/python3.11/dist-packages (from wandb) (5.9.5)\n",
            "Requirement already satisfied: pydantic<3,>=2.6 in /usr/local/lib/python3.11/dist-packages (from wandb) (2.10.6)\n",
            "Requirement already satisfied: pyyaml in /usr/local/lib/python3.11/dist-packages (from wandb) (6.0.2)\n",
            "Requirement already satisfied: requests<3,>=2.0.0 in /usr/local/lib/python3.11/dist-packages (from wandb) (2.32.3)\n",
            "Requirement already satisfied: sentry-sdk>=2.0.0 in /usr/local/lib/python3.11/dist-packages (from wandb) (2.22.0)\n",
            "Requirement already satisfied: setproctitle in /usr/local/lib/python3.11/dist-packages (from wandb) (1.3.4)\n",
            "Requirement already satisfied: setuptools in /usr/local/lib/python3.11/dist-packages (from wandb) (75.1.0)\n",
            "Requirement already satisfied: typing-extensions<5,>=4.4 in /usr/local/lib/python3.11/dist-packages (from wandb) (4.12.2)\n",
            "Requirement already satisfied: six>=1.4.0 in /usr/local/lib/python3.11/dist-packages (from docker-pycreds>=0.4.0->wandb) (1.17.0)\n",
            "Requirement already satisfied: gitdb<5,>=4.0.1 in /usr/local/lib/python3.11/dist-packages (from gitpython!=3.1.29,>=1.0.0->wandb) (4.0.12)\n",
            "Requirement already satisfied: annotated-types>=0.6.0 in /usr/local/lib/python3.11/dist-packages (from pydantic<3,>=2.6->wandb) (0.7.0)\n",
            "Requirement already satisfied: pydantic-core==2.27.2 in /usr/local/lib/python3.11/dist-packages (from pydantic<3,>=2.6->wandb) (2.27.2)\n",
            "Requirement already satisfied: charset-normalizer<4,>=2 in /usr/local/lib/python3.11/dist-packages (from requests<3,>=2.0.0->wandb) (3.4.1)\n",
            "Requirement already satisfied: idna<4,>=2.5 in /usr/local/lib/python3.11/dist-packages (from requests<3,>=2.0.0->wandb) (3.10)\n",
            "Requirement already satisfied: urllib3<3,>=1.21.1 in /usr/local/lib/python3.11/dist-packages (from requests<3,>=2.0.0->wandb) (2.3.0)\n",
            "Requirement already satisfied: certifi>=2017.4.17 in /usr/local/lib/python3.11/dist-packages (from requests<3,>=2.0.0->wandb) (2025.1.31)\n",
            "Requirement already satisfied: smmap<6,>=3.0.1 in /usr/local/lib/python3.11/dist-packages (from gitdb<5,>=4.0.1->gitpython!=3.1.29,>=1.0.0->wandb) (5.0.2)\n"
          ]
        }
      ],
      "source": [
        "! pip install wandb"
      ]
    },
    {
      "cell_type": "markdown",
      "source": [
        "Log the following details:<br>\n",
        "- Model architecture: Number of layers, neurons, activation functions.\n",
        "- Hyperparameters: Learning rate, batch size, number of epochs.\n",
        "- Training and validation loss per epoch.\n",
        "- Final evaluation metrics.\n",
        "- Confusion matrix and loss curve visualizations.\n"
      ],
      "metadata": {
        "id": "sBnZ0cDCr97R"
      }
    },
    {
      "cell_type": "code",
      "execution_count": null,
      "metadata": {
        "colab": {
          "base_uri": "https://localhost:8080/",
          "height": 1000
        },
        "id": "rPkwT4MaW1Qs",
        "outputId": "881e79ae-a409-4079-cd81-9908b971932a"
      },
      "outputs": [
        {
          "output_type": "display_data",
          "data": {
            "text/plain": [
              "<IPython.core.display.HTML object>"
            ],
            "text/html": [
              "Tracking run with wandb version 0.19.6"
            ]
          },
          "metadata": {}
        },
        {
          "output_type": "display_data",
          "data": {
            "text/plain": [
              "<IPython.core.display.HTML object>"
            ],
            "text/html": [
              "Run data is saved locally in <code>/content/wandb/run-20250226_164000-cvxliwgi</code>"
            ]
          },
          "metadata": {}
        },
        {
          "output_type": "display_data",
          "data": {
            "text/plain": [
              "<IPython.core.display.HTML object>"
            ],
            "text/html": [
              "Syncing run <strong><a href='https://wandb.ai/23110076-iit-gandhinagar/CS203_Assign_6/runs/cvxliwgi' target=\"_blank\">MLP_Training</a></strong> to <a href='https://wandb.ai/23110076-iit-gandhinagar/CS203_Assign_6' target=\"_blank\">Weights & Biases</a> (<a href='https://wandb.me/developer-guide' target=\"_blank\">docs</a>)<br>"
            ]
          },
          "metadata": {}
        },
        {
          "output_type": "display_data",
          "data": {
            "text/plain": [
              "<IPython.core.display.HTML object>"
            ],
            "text/html": [
              " View project at <a href='https://wandb.ai/23110076-iit-gandhinagar/CS203_Assign_6' target=\"_blank\">https://wandb.ai/23110076-iit-gandhinagar/CS203_Assign_6</a>"
            ]
          },
          "metadata": {}
        },
        {
          "output_type": "display_data",
          "data": {
            "text/plain": [
              "<IPython.core.display.HTML object>"
            ],
            "text/html": [
              " View run at <a href='https://wandb.ai/23110076-iit-gandhinagar/CS203_Assign_6/runs/cvxliwgi' target=\"_blank\">https://wandb.ai/23110076-iit-gandhinagar/CS203_Assign_6/runs/cvxliwgi</a>"
            ]
          },
          "metadata": {}
        },
        {
          "output_type": "stream",
          "name": "stdout",
          "text": [
            "Epoch 1, Iter 1, Loss: 0.0113\n",
            "Epoch 1, Iter 3, Loss: 0.0229\n",
            "Epoch 1, Training Loss: 0.2721, Validation Loss: 1.1439, Validation Accuracy: 0.3333\n",
            "Epoch 2, Iter 1, Loss: 0.0114\n",
            "Epoch 2, Iter 3, Loss: 0.0226\n",
            "Epoch 2, Training Loss: 0.2800, Validation Loss: 1.1404, Validation Accuracy: 0.3333\n",
            "Epoch 3, Iter 1, Loss: 0.0113\n",
            "Epoch 3, Iter 3, Loss: 0.0225\n",
            "Epoch 3, Training Loss: 0.2835, Validation Loss: 1.1370, Validation Accuracy: 0.3333\n",
            "Epoch 4, Iter 1, Loss: 0.0110\n",
            "Epoch 4, Iter 3, Loss: 0.0227\n",
            "Epoch 4, Training Loss: 0.2782, Validation Loss: 1.1333, Validation Accuracy: 0.3333\n",
            "Epoch 5, Iter 1, Loss: 0.0113\n",
            "Epoch 5, Iter 3, Loss: 0.0223\n",
            "Epoch 5, Training Loss: 0.2739, Validation Loss: 1.1297, Validation Accuracy: 0.3333\n",
            "Epoch 6, Iter 1, Loss: 0.0112\n",
            "Epoch 6, Iter 3, Loss: 0.0221\n",
            "Epoch 6, Training Loss: 0.2855, Validation Loss: 1.1260, Validation Accuracy: 0.3333\n",
            "Epoch 7, Iter 1, Loss: 0.0111\n",
            "Epoch 7, Iter 3, Loss: 0.0220\n",
            "Epoch 7, Training Loss: 0.2857, Validation Loss: 1.1224, Validation Accuracy: 0.3333\n",
            "Epoch 8, Iter 1, Loss: 0.0110\n",
            "Epoch 8, Iter 3, Loss: 0.0221\n",
            "Epoch 8, Training Loss: 0.2756, Validation Loss: 1.1187, Validation Accuracy: 0.3333\n",
            "Epoch 9, Iter 1, Loss: 0.0111\n",
            "Epoch 9, Iter 3, Loss: 0.0221\n",
            "Epoch 9, Training Loss: 0.2632, Validation Loss: 1.1148, Validation Accuracy: 0.3333\n",
            "Epoch 10, Iter 1, Loss: 0.0111\n",
            "Epoch 10, Iter 3, Loss: 0.0219\n",
            "Epoch 10, Training Loss: 0.2638, Validation Loss: 1.1107, Validation Accuracy: 0.3333\n",
            "Epoch 11, Iter 1, Loss: 0.0111\n",
            "Epoch 11, Iter 3, Loss: 0.0216\n",
            "Epoch 11, Training Loss: 0.2746, Validation Loss: 1.1064, Validation Accuracy: 0.4667\n",
            "Epoch 12, Iter 1, Loss: 0.0107\n",
            "Epoch 12, Iter 3, Loss: 0.0218\n",
            "Epoch 12, Training Loss: 0.2701, Validation Loss: 1.1019, Validation Accuracy: 0.4667\n",
            "Epoch 13, Iter 1, Loss: 0.0110\n",
            "Epoch 13, Iter 3, Loss: 0.0214\n",
            "Epoch 13, Training Loss: 0.2719, Validation Loss: 1.0970, Validation Accuracy: 0.4667\n",
            "Epoch 14, Iter 1, Loss: 0.0108\n",
            "Epoch 14, Iter 3, Loss: 0.0214\n",
            "Epoch 14, Training Loss: 0.2717, Validation Loss: 1.0917, Validation Accuracy: 0.4000\n",
            "Epoch 15, Iter 1, Loss: 0.0108\n",
            "Epoch 15, Iter 3, Loss: 0.0213\n",
            "Epoch 15, Training Loss: 0.2634, Validation Loss: 1.0861, Validation Accuracy: 0.4667\n",
            "Epoch 16, Iter 1, Loss: 0.0104\n",
            "Epoch 16, Iter 3, Loss: 0.0215\n",
            "Epoch 16, Training Loss: 0.2561, Validation Loss: 1.0805, Validation Accuracy: 0.4667\n",
            "Epoch 17, Iter 1, Loss: 0.0105\n",
            "Epoch 17, Iter 3, Loss: 0.0212\n",
            "Epoch 17, Training Loss: 0.2594, Validation Loss: 1.0748, Validation Accuracy: 0.4000\n",
            "Epoch 18, Iter 1, Loss: 0.0105\n",
            "Epoch 18, Iter 3, Loss: 0.0209\n",
            "Epoch 18, Training Loss: 0.2653, Validation Loss: 1.0688, Validation Accuracy: 0.4000\n",
            "Epoch 19, Iter 1, Loss: 0.0104\n",
            "Epoch 19, Iter 3, Loss: 0.0208\n",
            "Epoch 19, Training Loss: 0.2621, Validation Loss: 1.0621, Validation Accuracy: 0.4000\n",
            "Epoch 20, Iter 1, Loss: 0.0103\n",
            "Epoch 20, Iter 3, Loss: 0.0207\n",
            "Epoch 20, Training Loss: 0.2580, Validation Loss: 1.0550, Validation Accuracy: 0.4667\n",
            "Epoch 21, Iter 1, Loss: 0.0103\n",
            "Epoch 21, Iter 3, Loss: 0.0204\n",
            "Epoch 21, Training Loss: 0.2573, Validation Loss: 1.0474, Validation Accuracy: 0.5333\n",
            "Epoch 22, Iter 1, Loss: 0.0102\n",
            "Epoch 22, Iter 3, Loss: 0.0206\n",
            "Epoch 22, Training Loss: 0.2366, Validation Loss: 1.0395, Validation Accuracy: 0.5333\n",
            "Epoch 23, Iter 1, Loss: 0.0100\n",
            "Epoch 23, Iter 3, Loss: 0.0204\n",
            "Epoch 23, Training Loss: 0.2361, Validation Loss: 1.0312, Validation Accuracy: 0.5333\n",
            "Epoch 24, Iter 1, Loss: 0.0100\n",
            "Epoch 24, Iter 3, Loss: 0.0200\n",
            "Epoch 24, Training Loss: 0.2543, Validation Loss: 1.0226, Validation Accuracy: 0.5333\n",
            "Epoch 25, Iter 1, Loss: 0.0099\n",
            "Epoch 25, Iter 3, Loss: 0.0197\n",
            "Epoch 25, Training Loss: 0.2585, Validation Loss: 1.0134, Validation Accuracy: 0.5333\n",
            "Epoch 26, Iter 1, Loss: 0.0101\n",
            "Epoch 26, Iter 3, Loss: 0.0194\n",
            "Epoch 26, Training Loss: 0.2389, Validation Loss: 1.0039, Validation Accuracy: 0.5333\n",
            "Epoch 27, Iter 1, Loss: 0.0099\n",
            "Epoch 27, Iter 3, Loss: 0.0192\n",
            "Epoch 27, Training Loss: 0.2482, Validation Loss: 0.9941, Validation Accuracy: 0.5333\n",
            "Epoch 28, Iter 1, Loss: 0.0094\n",
            "Epoch 28, Iter 3, Loss: 0.0192\n",
            "Epoch 28, Training Loss: 0.2541, Validation Loss: 0.9842, Validation Accuracy: 0.6667\n",
            "Epoch 29, Iter 1, Loss: 0.0093\n",
            "Epoch 29, Iter 3, Loss: 0.0193\n",
            "Epoch 29, Training Loss: 0.2314, Validation Loss: 0.9740, Validation Accuracy: 0.6667\n",
            "Epoch 30, Iter 1, Loss: 0.0097\n",
            "Epoch 30, Iter 3, Loss: 0.0184\n",
            "Epoch 30, Training Loss: 0.2362, Validation Loss: 0.9632, Validation Accuracy: 0.7333\n",
            "Epoch 31, Iter 1, Loss: 0.0093\n",
            "Epoch 31, Iter 3, Loss: 0.0186\n",
            "Epoch 31, Training Loss: 0.2256, Validation Loss: 0.9530, Validation Accuracy: 0.7333\n",
            "Epoch 32, Iter 1, Loss: 0.0090\n",
            "Epoch 32, Iter 3, Loss: 0.0187\n",
            "Epoch 32, Training Loss: 0.2226, Validation Loss: 0.9422, Validation Accuracy: 0.7333\n",
            "Epoch 33, Iter 1, Loss: 0.0095\n",
            "Epoch 33, Iter 3, Loss: 0.0179\n",
            "Epoch 33, Training Loss: 0.2177, Validation Loss: 0.9312, Validation Accuracy: 0.8000\n",
            "Epoch 34, Iter 1, Loss: 0.0091\n",
            "Epoch 34, Iter 3, Loss: 0.0178\n",
            "Epoch 34, Training Loss: 0.2268, Validation Loss: 0.9202, Validation Accuracy: 0.8000\n",
            "Epoch 35, Iter 1, Loss: 0.0089\n",
            "Epoch 35, Iter 3, Loss: 0.0178\n",
            "Epoch 35, Training Loss: 0.2186, Validation Loss: 0.9090, Validation Accuracy: 0.8000\n",
            "Epoch 36, Iter 1, Loss: 0.0086\n",
            "Epoch 36, Iter 3, Loss: 0.0178\n",
            "Epoch 36, Training Loss: 0.2167, Validation Loss: 0.8987, Validation Accuracy: 0.8000\n",
            "Epoch 37, Iter 1, Loss: 0.0085\n",
            "Epoch 37, Iter 3, Loss: 0.0174\n",
            "Epoch 37, Training Loss: 0.2326, Validation Loss: 0.8888, Validation Accuracy: 0.8000\n",
            "Epoch 38, Iter 1, Loss: 0.0084\n",
            "Epoch 38, Iter 3, Loss: 0.0173\n",
            "Epoch 38, Training Loss: 0.2250, Validation Loss: 0.8797, Validation Accuracy: 0.8000\n",
            "Epoch 39, Iter 1, Loss: 0.0084\n",
            "Epoch 39, Iter 3, Loss: 0.0172\n",
            "Epoch 39, Training Loss: 0.2116, Validation Loss: 0.8713, Validation Accuracy: 0.8000\n",
            "Epoch 40, Iter 1, Loss: 0.0085\n",
            "Epoch 40, Iter 3, Loss: 0.0172\n",
            "Epoch 40, Training Loss: 0.1924, Validation Loss: 0.8633, Validation Accuracy: 0.8000\n",
            "Epoch 41, Iter 1, Loss: 0.0089\n",
            "Epoch 41, Iter 3, Loss: 0.0164\n",
            "Epoch 41, Training Loss: 0.2069, Validation Loss: 0.8561, Validation Accuracy: 0.8000\n",
            "Epoch 42, Iter 1, Loss: 0.0079\n",
            "Epoch 42, Iter 3, Loss: 0.0171\n",
            "Epoch 42, Training Loss: 0.2089, Validation Loss: 0.8494, Validation Accuracy: 0.8000\n",
            "Epoch 43, Iter 1, Loss: 0.0087\n",
            "Epoch 43, Iter 3, Loss: 0.0162\n",
            "Epoch 43, Training Loss: 0.2078, Validation Loss: 0.8435, Validation Accuracy: 0.8000\n",
            "Epoch 44, Iter 1, Loss: 0.0082\n",
            "Epoch 44, Iter 3, Loss: 0.0163\n",
            "Epoch 44, Training Loss: 0.2180, Validation Loss: 0.8381, Validation Accuracy: 0.8000\n",
            "Epoch 45, Iter 1, Loss: 0.0085\n",
            "Epoch 45, Iter 3, Loss: 0.0160\n",
            "Epoch 45, Training Loss: 0.2184, Validation Loss: 0.8330, Validation Accuracy: 0.8000\n",
            "Epoch 46, Iter 1, Loss: 0.0083\n",
            "Epoch 46, Iter 3, Loss: 0.0159\n",
            "Epoch 46, Training Loss: 0.2208, Validation Loss: 0.8280, Validation Accuracy: 0.8000\n",
            "Epoch 47, Iter 1, Loss: 0.0081\n",
            "Epoch 47, Iter 3, Loss: 0.0163\n",
            "Epoch 47, Training Loss: 0.1970, Validation Loss: 0.8232, Validation Accuracy: 0.8000\n",
            "Epoch 48, Iter 1, Loss: 0.0075\n",
            "Epoch 48, Iter 3, Loss: 0.0166\n",
            "Epoch 48, Training Loss: 0.2012, Validation Loss: 0.8187, Validation Accuracy: 0.8000\n",
            "Epoch 49, Iter 1, Loss: 0.0079\n",
            "Epoch 49, Iter 3, Loss: 0.0162\n",
            "Epoch 49, Training Loss: 0.1987, Validation Loss: 0.8148, Validation Accuracy: 0.8000\n",
            "Epoch 50, Iter 1, Loss: 0.0075\n",
            "Epoch 50, Iter 3, Loss: 0.0161\n",
            "Epoch 50, Training Loss: 0.2340, Validation Loss: 0.8110, Validation Accuracy: 0.8000\n",
            "Training Completed in 0.45 seconds\n",
            "\n",
            "Final Evaluation Metrics:\n",
            "Accuracy:  0.8667\n",
            "Precision: 0.9077\n",
            "Recall:    0.8667\n",
            "F1 Score:  0.8597\n"
          ]
        },
        {
          "output_type": "display_data",
          "data": {
            "text/plain": [
              "<IPython.core.display.HTML object>"
            ],
            "text/html": []
          },
          "metadata": {}
        },
        {
          "output_type": "display_data",
          "data": {
            "text/plain": [
              "<IPython.core.display.HTML object>"
            ],
            "text/html": [
              "<br>    <style><br>        .wandb-row {<br>            display: flex;<br>            flex-direction: row;<br>            flex-wrap: wrap;<br>            justify-content: flex-start;<br>            width: 100%;<br>        }<br>        .wandb-col {<br>            display: flex;<br>            flex-direction: column;<br>            flex-basis: 100%;<br>            flex: 1;<br>            padding: 10px;<br>        }<br>    </style><br><div class=\"wandb-row\"><div class=\"wandb-col\"><h3>Run history:</h3><br/><table class=\"wandb\"><tr><td>iteration</td><td>▁▁▁▂▂▂▂▃▃▃▃▃▃▃▃▄▄▄▄▅▅▅▅▆▆▆▆▆▆▆▇▇▇▇▇▇████</td></tr><tr><td>learning_rate</td><td>▁▁▁▁▁▁▁▁▁▁▁▁▁▁▁▁▁▁▁▁▁▁▁▁▁▁▁▁▁▁▁▁▁▁▁▁▁▁▁▁</td></tr><tr><td>loss</td><td>████▇▇▇▇█▇▇▇▇▇▆▆▆▆▅▆▅▆▅▅▄▅▅▄▄▄▃▄▃▃▃▃▂▂▁▄</td></tr><tr><td>val_accuracy</td><td>▁▁▁▁▁▁▁▁▃▃▂▃▂▂▂▄▄▄▄▄▄▆▆▇▇███████████████</td></tr><tr><td>val_loss</td><td>██████▇▇▇▇▇▇▇▇▇▆▆▆▆▅▅▅▅▄▄▄▄▃▃▃▂▂▂▂▂▁▁▁▁▁</td></tr></table><br/></div><div class=\"wandb-col\"><h3>Run summary:</h3><br/><table class=\"wandb\"><tr><td>Final Accuracy</td><td>0.86667</td></tr><tr><td>Final F1 Score</td><td>0.85974</td></tr><tr><td>Final Precision</td><td>0.90769</td></tr><tr><td>Final Recall</td><td>0.86667</td></tr><tr><td>iteration</td><td>196</td></tr><tr><td>learning_rate</td><td>0.001</td></tr><tr><td>loss</td><td>0.93615</td></tr><tr><td>model_architecture</td><td>MLP(<br>  (layer1): Seq...</td></tr><tr><td>val_accuracy</td><td>0.8</td></tr><tr><td>val_loss</td><td>0.81097</td></tr></table><br/></div></div>"
            ]
          },
          "metadata": {}
        },
        {
          "output_type": "display_data",
          "data": {
            "text/plain": [
              "<IPython.core.display.HTML object>"
            ],
            "text/html": [
              " View run <strong style=\"color:#cdcd00\">MLP_Training</strong> at: <a href='https://wandb.ai/23110076-iit-gandhinagar/CS203_Assign_6/runs/cvxliwgi' target=\"_blank\">https://wandb.ai/23110076-iit-gandhinagar/CS203_Assign_6/runs/cvxliwgi</a><br> View project at: <a href='https://wandb.ai/23110076-iit-gandhinagar/CS203_Assign_6' target=\"_blank\">https://wandb.ai/23110076-iit-gandhinagar/CS203_Assign_6</a><br>Synced 5 W&B file(s), 3 media file(s), 2 artifact file(s) and 0 other file(s)"
            ]
          },
          "metadata": {}
        },
        {
          "output_type": "display_data",
          "data": {
            "text/plain": [
              "<IPython.core.display.HTML object>"
            ],
            "text/html": [
              "Find logs at: <code>./wandb/run-20250226_164000-cvxliwgi/logs</code>"
            ]
          },
          "metadata": {}
        }
      ],
      "source": [
        "import wandb\n",
        "import time\n",
        "from sklearn.metrics import accuracy_score,precision_score,recall_score,f1_score,confusion_matrix\n",
        "import seaborn as sns\n",
        "import matplotlib.pyplot as plt\n",
        "\n",
        "wandb.init(project=\"CS203_Assign_6\",name=\"MLP_Training\")\n",
        "\n",
        "config={\n",
        "    \"learning_rate\":0.001,\n",
        "    \"epochs\":50,\n",
        "    \"batch_size\":32,\n",
        "    \"optimizer\":\"Adam\"\n",
        "}\n",
        "wandb.config.update(config)\n",
        "\n",
        "\n",
        "def train_logging(model,train_dataset,valid_dataset,config):\n",
        "  criterion=torch.nn.CrossEntropyLoss()\n",
        "  optimizer=torch.optim.Adam(model.parameters(),lr=config[\"learning_rate\"])\n",
        "  train_loader=DataLoader(train_dataset,batch_size=config[\"batch_size\"],shuffle=True)\n",
        "  valid_loader=DataLoader(valid_dataset,batch_size=config[\"batch_size\"],shuffle=True)\n",
        "  train_losses,val_losses=[],[]\n",
        "\n",
        "  for epoch in range(config[\"epochs\"]):\n",
        "    model.train()\n",
        "    running_loss=0.0\n",
        "\n",
        "    for i,(X_features,y_labels) in enumerate(train_loader):\n",
        "      X_features = X_features.requires_grad_()\n",
        "      optimizer.zero_grad()\n",
        "      output=model(X_features)\n",
        "      loss=criterion(output,y_labels)\n",
        "      loss.backward()\n",
        "      optimizer.step()\n",
        "\n",
        "      wandb.log({\"loss\":loss.item(),\"iteration\":epoch*len(train_loader),\"learning_rate\":optimizer.param_groups[0]['lr']})\n",
        "\n",
        "      running_loss += loss.item()\n",
        "      if i % 2 == 0:\n",
        "          print(f\"Epoch {epoch+1}, Iter {i+1}, Loss: {running_loss / 100:.4f}\")\n",
        "          running_loss = 0.0\n",
        "\n",
        "    train_losses.append(running_loss/len(train_loader))\n",
        "\n",
        "    model.eval()\n",
        "    val_loss=0.0\n",
        "    correct=[]\n",
        "    predicts=[]\n",
        "\n",
        "    with torch.no_grad():\n",
        "      for X_features,y_labels in valid_loader:\n",
        "        output=model(X_features)\n",
        "        loss=criterion(output,y_labels)\n",
        "        val_loss+=loss.item()\n",
        "        _,predict=torch.max(output,1)\n",
        "        correct.extend(y_labels.tolist())\n",
        "        predicts.extend(predict.tolist())\n",
        "\n",
        "\n",
        "    val_acc = accuracy_score(correct,predicts)\n",
        "    val_losses.append(val_loss/len(valid_loader))\n",
        "\n",
        "    wandb.log({\"val_accuracy\": val_acc, \"val_loss\":val_losses[-1]})\n",
        "    print(f\"Epoch {epoch+1}, Training Loss: {train_losses[-1]:.4f}, Validation Loss: {val_losses[-1]:.4f}, Validation Accuracy: {val_acc:.4f}\")\n",
        "\n",
        "  return model,train_losses,val_losses\n",
        "\n",
        "number_of_features=X_train.shape[1]\n",
        "number_of_classes=len(dataset['target_names'])\n",
        "\n",
        "model=MLP(number_of_features,number_of_classes)\n",
        "\n",
        "wandb.summary[\"model_architecture\"]=str(model)\n",
        "wandb.watch(model,log='all',log_freq=10)\n",
        "\n",
        "model_table = wandb.Table(columns=[\"Layer\", \"Output Shape\", \"Parameters\"])\n",
        "\n",
        "for name, layer in model.named_modules():\n",
        "    if isinstance(layer, torch.nn.Linear):\n",
        "        model_table.add_data(name, f\"{layer.out_features}\", f\"{layer.weight.numel() + layer.bias.numel()}\")\n",
        "\n",
        "wandb.log({\"model_architecture_table\": model_table})\n",
        "\n",
        "start_time=time.time()\n",
        "model, train_losses, val_losses=train_logging(model,TensorDataset(X_train,y_train),TensorDataset(X_valid,y_valid),config)\n",
        "end_time=time.time()\n",
        "\n",
        "model.eval()\n",
        "with torch.no_grad():\n",
        "  output=model(X_test)\n",
        "  _,y_pred=torch.max(output,axis=1)\n",
        "\n",
        "y_true=y_test\n",
        "\n",
        "print(f\"Training Completed in {end_time - start_time:.2f} seconds\")\n",
        "\n",
        "# Compute Final Evaluation Metrics\n",
        "accuracy = accuracy_score(y_true, y_pred)\n",
        "precision = precision_score(y_true, y_pred, average=\"weighted\")\n",
        "recall = recall_score(y_true, y_pred, average=\"weighted\")\n",
        "f1 = f1_score(y_true, y_pred, average=\"weighted\")\n",
        "\n",
        "# Print Final Evaluation Metrics\n",
        "print(\"\\nFinal Evaluation Metrics:\")\n",
        "print(f\"Accuracy:  {accuracy:.4f}\")\n",
        "print(f\"Precision: {precision:.4f}\")\n",
        "print(f\"Recall:    {recall:.4f}\")\n",
        "print(f\"F1 Score:  {f1:.4f}\")\n",
        "\n",
        "# Log Final Evaluation Metrics to W&B\n",
        "# Log final metrics to W&B summary\n",
        "wandb.summary[\"Final Accuracy\"] = accuracy\n",
        "wandb.summary[\"Final Precision\"] = precision\n",
        "wandb.summary[\"Final Recall\"] = recall\n",
        "wandb.summary[\"Final F1 Score\"] = f1\n",
        "conf_matrix = confusion_matrix(y_true, y_pred)\n",
        "\n",
        "# Plot Confusion Matrix\n",
        "plt.figure(figsize=(6, 5))\n",
        "sns.heatmap(conf_matrix, annot=True, fmt=\"d\", cmap=\"Blues\")\n",
        "plt.xlabel(\"Predicted\")\n",
        "plt.ylabel(\"Actual\")\n",
        "plt.title(\"Confusion Matrix\")\n",
        "\n",
        "# Log Confusion Matrix to W&B\n",
        "wandb.log({\"confusion_matrix\": wandb.Image(plt)})\n",
        "plt.close()\n",
        "\n",
        "# Plot Loss Curve\n",
        "fig,axes=plt.subplots(2,1,figsize=(20, 5))\n",
        "axes[0].plot(range(1, config[\"epochs\"] + 1), train_losses, label=\"Train Loss\", marker=\"o\")\n",
        "axes[0].set_xlabel(\"Epochs\")\n",
        "axes[0].set_ylabel(\"Loss\")\n",
        "axes[0].legend()\n",
        "axes[0].set_title(\"Training Loss Curve\")\n",
        "\n",
        "axes[1].plot(range(1, config[\"epochs\"] + 1), val_losses, label=\"Validation Loss\", marker=\"s\")\n",
        "axes[1].set_xlabel(\"Epochs\")\n",
        "axes[1].set_ylabel(\"Loss\")\n",
        "axes[1].legend()\n",
        "axes[1].set_title(\"Validation Loss Curve\")\n",
        "\n",
        "# Log Loss Curve to W&B\n",
        "wandb.log({\"loss_curve\": wandb.Image(plt)})\n",
        "plt.close()\n",
        "\n",
        "wandb.finish()"
      ]
    },
    {
      "cell_type": "markdown",
      "source": [
        "**Section 2: Hyperparameters**"
      ],
      "metadata": {
        "id": "O5gbmNvVCmfE"
      }
    },
    {
      "cell_type": "markdown",
      "source": [
        "1. **Hyperparameter Optimization (20%)**"
      ],
      "metadata": {
        "id": "JCE-bWm2Cwj_"
      }
    },
    {
      "cell_type": "code",
      "source": [
        "test_dataset = TensorDataset(X_test,y_test)\n",
        "def test_samples(model, test_dataset, num_samples=5):\n",
        "    model.eval()\n",
        "    test_loader = DataLoader(test_dataset, batch_size=1, shuffle=True)\n",
        "    samples = []\n",
        "\n",
        "    with torch.no_grad():\n",
        "        for i, (X_features, y_labels) in enumerate(test_loader):\n",
        "            if i >= num_samples:\n",
        "                break\n",
        "\n",
        "            output = model(X_features)\n",
        "            _, predicted = torch.max(output, 1)\n",
        "\n",
        "            samples.append({\n",
        "                'input': X_features.squeeze().tolist(),\n",
        "                'prediction': predicted.item(),\n",
        "                'truth': y_labels.item()\n",
        "            })\n",
        "\n",
        "    return samples\n"
      ],
      "metadata": {
        "id": "YRwo6lF1Hc1-"
      },
      "execution_count": null,
      "outputs": []
    },
    {
      "cell_type": "markdown",
      "source": [
        "1.1) For batch size=2, learning rate=0.001, epochs=1"
      ],
      "metadata": {
        "id": "PFq7lFH6IZ_E"
      }
    },
    {
      "cell_type": "code",
      "source": [
        "number_of_features=X_train.shape[1]\n",
        "number_of_classes=len(dataset['target_names'])\n",
        "\n",
        "model=MLP(number_of_features,number_of_classes)\n",
        "model,train_loss,valid_loss=train(model,TensorDataset(X_train,y_train),TensorDataset(X_valid,y_valid),1,0.001,2)"
      ],
      "metadata": {
        "id": "pjZOLTCqCtO9"
      },
      "execution_count": null,
      "outputs": []
    },
    {
      "cell_type": "code",
      "source": [
        "model.eval()\n",
        "with torch.no_grad():\n",
        "  output=model(X_test)\n",
        "  _,predict=torch.max(output,axis=1)"
      ],
      "metadata": {
        "id": "s0mXrbKOItID"
      },
      "execution_count": null,
      "outputs": []
    },
    {
      "cell_type": "code",
      "source": [
        "metrics=metrics_data(y_test,predict)\n",
        "labels=['Accuracy','Precision','Recall','F1-score']\n",
        "dic={\n",
        "    'Metrics':labels,\n",
        "    'Values':metrics\n",
        "}\n",
        "data=pd.DataFrame(dic).set_index('Metrics')\n",
        "data"
      ],
      "metadata": {
        "colab": {
          "base_uri": "https://localhost:8080/",
          "height": 206
        },
        "id": "FHbl1wLJIwtx",
        "outputId": "15f0f1dc-a207-479b-c1e5-14d4aba484c2"
      },
      "execution_count": null,
      "outputs": [
        {
          "output_type": "execute_result",
          "data": {
            "text/plain": [
              "             Values\n",
              "Metrics            \n",
              "Accuracy   0.533333\n",
              "Precision  0.648128\n",
              "Recall     0.533333\n",
              "F1-score   0.507367"
            ],
            "text/html": [
              "\n",
              "  <div id=\"df-39b158fe-69d8-4d73-b244-fbfc4209c707\" class=\"colab-df-container\">\n",
              "    <div>\n",
              "<style scoped>\n",
              "    .dataframe tbody tr th:only-of-type {\n",
              "        vertical-align: middle;\n",
              "    }\n",
              "\n",
              "    .dataframe tbody tr th {\n",
              "        vertical-align: top;\n",
              "    }\n",
              "\n",
              "    .dataframe thead th {\n",
              "        text-align: right;\n",
              "    }\n",
              "</style>\n",
              "<table border=\"1\" class=\"dataframe\">\n",
              "  <thead>\n",
              "    <tr style=\"text-align: right;\">\n",
              "      <th></th>\n",
              "      <th>Values</th>\n",
              "    </tr>\n",
              "    <tr>\n",
              "      <th>Metrics</th>\n",
              "      <th></th>\n",
              "    </tr>\n",
              "  </thead>\n",
              "  <tbody>\n",
              "    <tr>\n",
              "      <th>Accuracy</th>\n",
              "      <td>0.533333</td>\n",
              "    </tr>\n",
              "    <tr>\n",
              "      <th>Precision</th>\n",
              "      <td>0.648128</td>\n",
              "    </tr>\n",
              "    <tr>\n",
              "      <th>Recall</th>\n",
              "      <td>0.533333</td>\n",
              "    </tr>\n",
              "    <tr>\n",
              "      <th>F1-score</th>\n",
              "      <td>0.507367</td>\n",
              "    </tr>\n",
              "  </tbody>\n",
              "</table>\n",
              "</div>\n",
              "    <div class=\"colab-df-buttons\">\n",
              "\n",
              "  <div class=\"colab-df-container\">\n",
              "    <button class=\"colab-df-convert\" onclick=\"convertToInteractive('df-39b158fe-69d8-4d73-b244-fbfc4209c707')\"\n",
              "            title=\"Convert this dataframe to an interactive table.\"\n",
              "            style=\"display:none;\">\n",
              "\n",
              "  <svg xmlns=\"http://www.w3.org/2000/svg\" height=\"24px\" viewBox=\"0 -960 960 960\">\n",
              "    <path d=\"M120-120v-720h720v720H120Zm60-500h600v-160H180v160Zm220 220h160v-160H400v160Zm0 220h160v-160H400v160ZM180-400h160v-160H180v160Zm440 0h160v-160H620v160ZM180-180h160v-160H180v160Zm440 0h160v-160H620v160Z\"/>\n",
              "  </svg>\n",
              "    </button>\n",
              "\n",
              "  <style>\n",
              "    .colab-df-container {\n",
              "      display:flex;\n",
              "      gap: 12px;\n",
              "    }\n",
              "\n",
              "    .colab-df-convert {\n",
              "      background-color: #E8F0FE;\n",
              "      border: none;\n",
              "      border-radius: 50%;\n",
              "      cursor: pointer;\n",
              "      display: none;\n",
              "      fill: #1967D2;\n",
              "      height: 32px;\n",
              "      padding: 0 0 0 0;\n",
              "      width: 32px;\n",
              "    }\n",
              "\n",
              "    .colab-df-convert:hover {\n",
              "      background-color: #E2EBFA;\n",
              "      box-shadow: 0px 1px 2px rgba(60, 64, 67, 0.3), 0px 1px 3px 1px rgba(60, 64, 67, 0.15);\n",
              "      fill: #174EA6;\n",
              "    }\n",
              "\n",
              "    .colab-df-buttons div {\n",
              "      margin-bottom: 4px;\n",
              "    }\n",
              "\n",
              "    [theme=dark] .colab-df-convert {\n",
              "      background-color: #3B4455;\n",
              "      fill: #D2E3FC;\n",
              "    }\n",
              "\n",
              "    [theme=dark] .colab-df-convert:hover {\n",
              "      background-color: #434B5C;\n",
              "      box-shadow: 0px 1px 3px 1px rgba(0, 0, 0, 0.15);\n",
              "      filter: drop-shadow(0px 1px 2px rgba(0, 0, 0, 0.3));\n",
              "      fill: #FFFFFF;\n",
              "    }\n",
              "  </style>\n",
              "\n",
              "    <script>\n",
              "      const buttonEl =\n",
              "        document.querySelector('#df-39b158fe-69d8-4d73-b244-fbfc4209c707 button.colab-df-convert');\n",
              "      buttonEl.style.display =\n",
              "        google.colab.kernel.accessAllowed ? 'block' : 'none';\n",
              "\n",
              "      async function convertToInteractive(key) {\n",
              "        const element = document.querySelector('#df-39b158fe-69d8-4d73-b244-fbfc4209c707');\n",
              "        const dataTable =\n",
              "          await google.colab.kernel.invokeFunction('convertToInteractive',\n",
              "                                                    [key], {});\n",
              "        if (!dataTable) return;\n",
              "\n",
              "        const docLinkHtml = 'Like what you see? Visit the ' +\n",
              "          '<a target=\"_blank\" href=https://colab.research.google.com/notebooks/data_table.ipynb>data table notebook</a>'\n",
              "          + ' to learn more about interactive tables.';\n",
              "        element.innerHTML = '';\n",
              "        dataTable['output_type'] = 'display_data';\n",
              "        await google.colab.output.renderOutput(dataTable, element);\n",
              "        const docLink = document.createElement('div');\n",
              "        docLink.innerHTML = docLinkHtml;\n",
              "        element.appendChild(docLink);\n",
              "      }\n",
              "    </script>\n",
              "  </div>\n",
              "\n",
              "\n",
              "<div id=\"df-c0ad9d5b-030c-4832-a216-9d261fcbfb86\">\n",
              "  <button class=\"colab-df-quickchart\" onclick=\"quickchart('df-c0ad9d5b-030c-4832-a216-9d261fcbfb86')\"\n",
              "            title=\"Suggest charts\"\n",
              "            style=\"display:none;\">\n",
              "\n",
              "<svg xmlns=\"http://www.w3.org/2000/svg\" height=\"24px\"viewBox=\"0 0 24 24\"\n",
              "     width=\"24px\">\n",
              "    <g>\n",
              "        <path d=\"M19 3H5c-1.1 0-2 .9-2 2v14c0 1.1.9 2 2 2h14c1.1 0 2-.9 2-2V5c0-1.1-.9-2-2-2zM9 17H7v-7h2v7zm4 0h-2V7h2v10zm4 0h-2v-4h2v4z\"/>\n",
              "    </g>\n",
              "</svg>\n",
              "  </button>\n",
              "\n",
              "<style>\n",
              "  .colab-df-quickchart {\n",
              "      --bg-color: #E8F0FE;\n",
              "      --fill-color: #1967D2;\n",
              "      --hover-bg-color: #E2EBFA;\n",
              "      --hover-fill-color: #174EA6;\n",
              "      --disabled-fill-color: #AAA;\n",
              "      --disabled-bg-color: #DDD;\n",
              "  }\n",
              "\n",
              "  [theme=dark] .colab-df-quickchart {\n",
              "      --bg-color: #3B4455;\n",
              "      --fill-color: #D2E3FC;\n",
              "      --hover-bg-color: #434B5C;\n",
              "      --hover-fill-color: #FFFFFF;\n",
              "      --disabled-bg-color: #3B4455;\n",
              "      --disabled-fill-color: #666;\n",
              "  }\n",
              "\n",
              "  .colab-df-quickchart {\n",
              "    background-color: var(--bg-color);\n",
              "    border: none;\n",
              "    border-radius: 50%;\n",
              "    cursor: pointer;\n",
              "    display: none;\n",
              "    fill: var(--fill-color);\n",
              "    height: 32px;\n",
              "    padding: 0;\n",
              "    width: 32px;\n",
              "  }\n",
              "\n",
              "  .colab-df-quickchart:hover {\n",
              "    background-color: var(--hover-bg-color);\n",
              "    box-shadow: 0 1px 2px rgba(60, 64, 67, 0.3), 0 1px 3px 1px rgba(60, 64, 67, 0.15);\n",
              "    fill: var(--button-hover-fill-color);\n",
              "  }\n",
              "\n",
              "  .colab-df-quickchart-complete:disabled,\n",
              "  .colab-df-quickchart-complete:disabled:hover {\n",
              "    background-color: var(--disabled-bg-color);\n",
              "    fill: var(--disabled-fill-color);\n",
              "    box-shadow: none;\n",
              "  }\n",
              "\n",
              "  .colab-df-spinner {\n",
              "    border: 2px solid var(--fill-color);\n",
              "    border-color: transparent;\n",
              "    border-bottom-color: var(--fill-color);\n",
              "    animation:\n",
              "      spin 1s steps(1) infinite;\n",
              "  }\n",
              "\n",
              "  @keyframes spin {\n",
              "    0% {\n",
              "      border-color: transparent;\n",
              "      border-bottom-color: var(--fill-color);\n",
              "      border-left-color: var(--fill-color);\n",
              "    }\n",
              "    20% {\n",
              "      border-color: transparent;\n",
              "      border-left-color: var(--fill-color);\n",
              "      border-top-color: var(--fill-color);\n",
              "    }\n",
              "    30% {\n",
              "      border-color: transparent;\n",
              "      border-left-color: var(--fill-color);\n",
              "      border-top-color: var(--fill-color);\n",
              "      border-right-color: var(--fill-color);\n",
              "    }\n",
              "    40% {\n",
              "      border-color: transparent;\n",
              "      border-right-color: var(--fill-color);\n",
              "      border-top-color: var(--fill-color);\n",
              "    }\n",
              "    60% {\n",
              "      border-color: transparent;\n",
              "      border-right-color: var(--fill-color);\n",
              "    }\n",
              "    80% {\n",
              "      border-color: transparent;\n",
              "      border-right-color: var(--fill-color);\n",
              "      border-bottom-color: var(--fill-color);\n",
              "    }\n",
              "    90% {\n",
              "      border-color: transparent;\n",
              "      border-bottom-color: var(--fill-color);\n",
              "    }\n",
              "  }\n",
              "</style>\n",
              "\n",
              "  <script>\n",
              "    async function quickchart(key) {\n",
              "      const quickchartButtonEl =\n",
              "        document.querySelector('#' + key + ' button');\n",
              "      quickchartButtonEl.disabled = true;  // To prevent multiple clicks.\n",
              "      quickchartButtonEl.classList.add('colab-df-spinner');\n",
              "      try {\n",
              "        const charts = await google.colab.kernel.invokeFunction(\n",
              "            'suggestCharts', [key], {});\n",
              "      } catch (error) {\n",
              "        console.error('Error during call to suggestCharts:', error);\n",
              "      }\n",
              "      quickchartButtonEl.classList.remove('colab-df-spinner');\n",
              "      quickchartButtonEl.classList.add('colab-df-quickchart-complete');\n",
              "    }\n",
              "    (() => {\n",
              "      let quickchartButtonEl =\n",
              "        document.querySelector('#df-c0ad9d5b-030c-4832-a216-9d261fcbfb86 button');\n",
              "      quickchartButtonEl.style.display =\n",
              "        google.colab.kernel.accessAllowed ? 'block' : 'none';\n",
              "    })();\n",
              "  </script>\n",
              "</div>\n",
              "\n",
              "  <div id=\"id_c61fc233-7b14-4715-a053-8d9e5f34c1f6\">\n",
              "    <style>\n",
              "      .colab-df-generate {\n",
              "        background-color: #E8F0FE;\n",
              "        border: none;\n",
              "        border-radius: 50%;\n",
              "        cursor: pointer;\n",
              "        display: none;\n",
              "        fill: #1967D2;\n",
              "        height: 32px;\n",
              "        padding: 0 0 0 0;\n",
              "        width: 32px;\n",
              "      }\n",
              "\n",
              "      .colab-df-generate:hover {\n",
              "        background-color: #E2EBFA;\n",
              "        box-shadow: 0px 1px 2px rgba(60, 64, 67, 0.3), 0px 1px 3px 1px rgba(60, 64, 67, 0.15);\n",
              "        fill: #174EA6;\n",
              "      }\n",
              "\n",
              "      [theme=dark] .colab-df-generate {\n",
              "        background-color: #3B4455;\n",
              "        fill: #D2E3FC;\n",
              "      }\n",
              "\n",
              "      [theme=dark] .colab-df-generate:hover {\n",
              "        background-color: #434B5C;\n",
              "        box-shadow: 0px 1px 3px 1px rgba(0, 0, 0, 0.15);\n",
              "        filter: drop-shadow(0px 1px 2px rgba(0, 0, 0, 0.3));\n",
              "        fill: #FFFFFF;\n",
              "      }\n",
              "    </style>\n",
              "    <button class=\"colab-df-generate\" onclick=\"generateWithVariable('data')\"\n",
              "            title=\"Generate code using this dataframe.\"\n",
              "            style=\"display:none;\">\n",
              "\n",
              "  <svg xmlns=\"http://www.w3.org/2000/svg\" height=\"24px\"viewBox=\"0 0 24 24\"\n",
              "       width=\"24px\">\n",
              "    <path d=\"M7,19H8.4L18.45,9,17,7.55,7,17.6ZM5,21V16.75L18.45,3.32a2,2,0,0,1,2.83,0l1.4,1.43a1.91,1.91,0,0,1,.58,1.4,1.91,1.91,0,0,1-.58,1.4L9.25,21ZM18.45,9,17,7.55Zm-12,3A5.31,5.31,0,0,0,4.9,8.1,5.31,5.31,0,0,0,1,6.5,5.31,5.31,0,0,0,4.9,4.9,5.31,5.31,0,0,0,6.5,1,5.31,5.31,0,0,0,8.1,4.9,5.31,5.31,0,0,0,12,6.5,5.46,5.46,0,0,0,6.5,12Z\"/>\n",
              "  </svg>\n",
              "    </button>\n",
              "    <script>\n",
              "      (() => {\n",
              "      const buttonEl =\n",
              "        document.querySelector('#id_c61fc233-7b14-4715-a053-8d9e5f34c1f6 button.colab-df-generate');\n",
              "      buttonEl.style.display =\n",
              "        google.colab.kernel.accessAllowed ? 'block' : 'none';\n",
              "\n",
              "      buttonEl.onclick = () => {\n",
              "        google.colab.notebook.generateWithVariable('data');\n",
              "      }\n",
              "      })();\n",
              "    </script>\n",
              "  </div>\n",
              "\n",
              "    </div>\n",
              "  </div>\n"
            ],
            "application/vnd.google.colaboratory.intrinsic+json": {
              "type": "dataframe",
              "variable_name": "data",
              "summary": "{\n  \"name\": \"data\",\n  \"rows\": 4,\n  \"fields\": [\n    {\n      \"column\": \"Metrics\",\n      \"properties\": {\n        \"dtype\": \"string\",\n        \"num_unique_values\": 4,\n        \"samples\": [\n          \"Precision\",\n          \"F1-score\",\n          \"Accuracy\"\n        ],\n        \"semantic_type\": \"\",\n        \"description\": \"\"\n      }\n    },\n    {\n      \"column\": \"Values\",\n      \"properties\": {\n        \"dtype\": \"number\",\n        \"std\": 0.06292729451475534,\n        \"min\": 0.5073667711598746,\n        \"max\": 0.6481283422459894,\n        \"num_unique_values\": 3,\n        \"samples\": [\n          0.5333333333333333,\n          0.6481283422459894,\n          0.5073667711598746\n        ],\n        \"semantic_type\": \"\",\n        \"description\": \"\"\n      }\n    }\n  ]\n}"
            }
          },
          "metadata": {},
          "execution_count": 34
        }
      ]
    },
    {
      "cell_type": "code",
      "source": [
        "plot_confusion_matrix(y_test,predict,class_names=names)"
      ],
      "metadata": {
        "colab": {
          "base_uri": "https://localhost:8080/",
          "height": 564
        },
        "id": "8yaOdoIqI2Lt",
        "outputId": "0492f08d-c576-4b0e-c213-45aff80757af"
      },
      "execution_count": null,
      "outputs": [
        {
          "output_type": "display_data",
          "data": {
            "text/plain": [
              "<Figure size 800x600 with 2 Axes>"
            ],
            "image/png": "[encoded data removed]"
          },
          "metadata": {}
        }
      ]
    },
    {
      "cell_type": "code",
      "source": [
        "test_dataset = torch.utils.data.TensorDataset(X_test, torch.tensor(y_test))\n",
        "sample_results = test_samples(model, test_dataset, 5)\n",
        "for i, sample in enumerate(sample_results):\n",
        "    print(f\"Sample {i+1}:\")\n",
        "    print(f\"Input: {sample['input']}\")\n",
        "    print(f\"Prediction: {names[sample['prediction']]}\")\n",
        "    print(f\"Truth: {names[sample['truth']]}\")\n",
        "    print()"
      ],
      "metadata": {
        "colab": {
          "base_uri": "https://localhost:8080/"
        },
        "id": "iYIY7mbMM1Eq",
        "outputId": "beb8d331-debb-4fb1-fb8f-9f2e40399d90"
      },
      "execution_count": null,
      "outputs": [
        {
          "output_type": "stream",
          "name": "stdout",
          "text": [
            "Sample 1:\n",
            "Input: [-1.3882484436035156, 1.0772606134414673, -1.4111891984939575, -1.198310136795044]\n",
            "Prediction: setosa\n",
            "Truth: setosa\n",
            "\n",
            "Sample 2:\n",
            "Input: [1.2303040027618408, -0.052733033895492554, 1.1750539541244507, 1.7861604690551758]\n",
            "Prediction: virginica\n",
            "Truth: virginica\n",
            "\n",
            "Sample 3:\n",
            "Input: [-1.1388624906539917, -0.2787317633628845, -1.1862984895706177, -1.333967924118042]\n",
            "Prediction: virginica\n",
            "Truth: setosa\n",
            "\n",
            "Sample 4:\n",
            "Input: [2.7266197204589844, 1.5292580127716064, 1.6248352527618408, 1.2435294389724731]\n",
            "Prediction: virginica\n",
            "Truth: virginica\n",
            "\n",
            "Sample 5:\n",
            "Input: [-0.14131870865821838, -1.408725380897522, 0.21926842629909515, 0.02260962501168251]\n",
            "Prediction: versicolor\n",
            "Truth: versicolor\n",
            "\n"
          ]
        },
        {
          "output_type": "stream",
          "name": "stderr",
          "text": [
            "<ipython-input-36-4e921072bdc2>:1: UserWarning: To copy construct from a tensor, it is recommended to use sourceTensor.clone().detach() or sourceTensor.clone().detach().requires_grad_(True), rather than torch.tensor(sourceTensor).\n",
            "  test_dataset = torch.utils.data.TensorDataset(X_test, torch.tensor(y_test))\n"
          ]
        }
      ]
    },
    {
      "cell_type": "code",
      "source": [
        "def evaluate_model_comprehensive(model, X_test, y_test, names, num_samples=5):\n",
        "    model.eval()\n",
        "    with torch.no_grad():\n",
        "        output = model(X_test)\n",
        "        _, predict = torch.max(output, axis=1)\n",
        "\n",
        "    # Compute and display metrics\n",
        "    metrics = metrics_data(y_test, predict)\n",
        "    labels = ['Accuracy', 'Precision', 'Recall', 'F1-score']\n",
        "    dic = {\n",
        "        'Metrics': labels,\n",
        "        'Values': metrics\n",
        "    }\n",
        "    data = pd.DataFrame(dic).set_index('Metrics')\n",
        "    print(data)\n",
        "    print(\"\\n----------------------------------------------------------------------------\\n\")\n",
        "\n",
        "    # Plot confusion matrix\n",
        "    plot_confusion_matrix(y_test, predict, class_names=names)\n",
        "    print(\"\\n----------------------------------------------------------------------------\\n\")\n",
        "\n",
        "    # Show sample predictions\n",
        "    test_dataset = torch.utils.data.TensorDataset(X_test, torch.tensor(y_test))\n",
        "    sample_results = test_samples(model, test_dataset, num_samples)\n",
        "    for i, sample in enumerate(sample_results):\n",
        "        print(f\"Sample {i+1}:\")\n",
        "        print(f\"Input: {sample['input']}\")\n",
        "        print(f\"Prediction: {names[sample['prediction']]}\")\n",
        "        print(f\"Truth: {names[sample['truth']]}\")\n",
        "        print()"
      ],
      "metadata": {
        "id": "JrfUNvmILZ_L"
      },
      "execution_count": null,
      "outputs": []
    },
    {
      "cell_type": "markdown",
      "source": [
        "1.2) For batch size=2, learning rate=0.001, epochs=3"
      ],
      "metadata": {
        "id": "4PW1OgdLJozT"
      }
    },
    {
      "cell_type": "code",
      "source": [
        "number_of_features=X_train.shape[1]\n",
        "number_of_classes=len(dataset['target_names'])\n",
        "\n",
        "model=MLP(number_of_features,number_of_classes)\n",
        "model,train_loss,valid_loss=train(model,TensorDataset(X_train,y_train),TensorDataset(X_valid,y_valid),3,0.001,2)\n",
        "\n",
        "evaluate_model_comprehensive(model, X_test, y_test, names, num_samples=5)"
      ],
      "metadata": {
        "colab": {
          "base_uri": "https://localhost:8080/",
          "height": 1000
        },
        "id": "0qB8o43yJAwZ",
        "outputId": "a04b9652-8c8c-4260-8065-be9058d7e754"
      },
      "execution_count": null,
      "outputs": [
        {
          "output_type": "stream",
          "name": "stdout",
          "text": [
            "           Values\n",
            "Metrics          \n",
            "Accuracy     0.70\n",
            "Precision    0.55\n",
            "Recall       0.70\n",
            "F1-score     0.60\n",
            "\n",
            "----------------------------------------------------------------------------\n",
            "\n"
          ]
        },
        {
          "output_type": "stream",
          "name": "stderr",
          "text": [
            "/usr/local/lib/python3.11/dist-packages/sklearn/metrics/_classification.py:1565: UndefinedMetricWarning: Precision is ill-defined and being set to 0.0 in labels with no predicted samples. Use `zero_division` parameter to control this behavior.\n",
            "  _warn_prf(average, modifier, f\"{metric.capitalize()} is\", len(result))\n"
          ]
        },
        {
          "output_type": "display_data",
          "data": {
            "text/plain": [
              "<Figure size 800x600 with 2 Axes>"
            ],
            "image/png": "[encoded data removed]"
          },
          "metadata": {}
        },
        {
          "output_type": "stream",
          "name": "stdout",
          "text": [
            "\n",
            "----------------------------------------------------------------------------\n",
            "\n",
            "Sample 1:\n",
            "Input: [-0.01662573032081127, -1.408725380897522, 0.8377178311347961, 1.2435294389724731]\n",
            "Prediction: virginica\n",
            "Truth: virginica\n",
            "\n",
            "Sample 2:\n",
            "Input: [-0.14131870865821838, -0.2787317633628845, 0.5566045045852661, 0.5652406215667725]\n",
            "Prediction: virginica\n",
            "Truth: versicolor\n",
            "\n",
            "Sample 3:\n",
            "Input: [-0.3907046616077423, 1.303259253501892, -1.1300758123397827, -1.198310136795044]\n",
            "Prediction: setosa\n",
            "Truth: setosa\n",
            "\n",
            "Sample 4:\n",
            "Input: [0.9809180498123169, -0.2787317633628845, 0.9501631855964661, 1.2435294389724731]\n",
            "Prediction: virginica\n",
            "Truth: virginica\n",
            "\n",
            "Sample 5:\n",
            "Input: [-1.0141695737838745, -0.052733033895492554, -1.1300758123397827, -1.198310136795044]\n",
            "Prediction: setosa\n",
            "Truth: setosa\n",
            "\n"
          ]
        },
        {
          "output_type": "stream",
          "name": "stderr",
          "text": [
            "<ipython-input-37-9a652778d31a>:23: UserWarning: To copy construct from a tensor, it is recommended to use sourceTensor.clone().detach() or sourceTensor.clone().detach().requires_grad_(True), rather than torch.tensor(sourceTensor).\n",
            "  test_dataset = torch.utils.data.TensorDataset(X_test, torch.tensor(y_test))\n"
          ]
        }
      ]
    },
    {
      "cell_type": "markdown",
      "source": [
        "1.3) For batch size=2, learning rate=0.001, epochs=5"
      ],
      "metadata": {
        "id": "VH6WVB2dKcWo"
      }
    },
    {
      "cell_type": "code",
      "source": [
        "number_of_features=X_train.shape[1]\n",
        "number_of_classes=len(dataset['target_names'])\n",
        "\n",
        "model=MLP(number_of_features,number_of_classes)\n",
        "model,train_loss,valid_loss=train(model,TensorDataset(X_train,y_train),TensorDataset(X_valid,y_valid),5,0.001,2)\n",
        "\n",
        "evaluate_model_comprehensive(model, X_test, y_test, names, num_samples=5)"
      ],
      "metadata": {
        "colab": {
          "base_uri": "https://localhost:8080/",
          "height": 1000
        },
        "id": "0q6HYdcDKeba",
        "outputId": "f3d3a46d-1141-44fd-faf1-aa48e80ec549"
      },
      "execution_count": null,
      "outputs": [
        {
          "output_type": "stream",
          "name": "stdout",
          "text": [
            "           Values\n",
            "Metrics          \n",
            "Accuracy    0.800\n",
            "Precision   0.880\n",
            "Recall      0.800\n",
            "F1-score    0.775\n",
            "\n",
            "----------------------------------------------------------------------------\n",
            "\n"
          ]
        },
        {
          "output_type": "display_data",
          "data": {
            "text/plain": [
              "<Figure size 800x600 with 2 Axes>"
            ],
            "image/png": "[encoded data removed]"
          },
          "metadata": {}
        },
        {
          "output_type": "stream",
          "name": "stdout",
          "text": [
            "\n",
            "----------------------------------------------------------------------------\n",
            "\n",
            "Sample 1:\n",
            "Input: [0.731532096862793, -0.956727921962738, 0.7814951539039612, 0.9722139239311218]\n",
            "Prediction: virginica\n",
            "Truth: virginica\n",
            "\n",
            "Sample 2:\n",
            "Input: [-0.01662573032081127, -1.408725380897522, 0.8377178311347961, 1.2435294389724731]\n",
            "Prediction: virginica\n",
            "Truth: virginica\n",
            "\n",
            "Sample 3:\n",
            "Input: [-0.8894765377044678, 0.6252631545066833, -1.0738531351089478, -0.9269946813583374]\n",
            "Prediction: setosa\n",
            "Truth: setosa\n",
            "\n",
            "Sample 4:\n",
            "Input: [-0.14131870865821838, -0.2787317633628845, 0.5566045045852661, 0.5652406215667725]\n",
            "Prediction: virginica\n",
            "Truth: versicolor\n",
            "\n",
            "Sample 5:\n",
            "Input: [0.10806724429130554, -0.956727921962738, 0.33171379566192627, -0.11304812878370285]\n",
            "Prediction: versicolor\n",
            "Truth: versicolor\n",
            "\n"
          ]
        },
        {
          "output_type": "stream",
          "name": "stderr",
          "text": [
            "<ipython-input-37-9a652778d31a>:23: UserWarning: To copy construct from a tensor, it is recommended to use sourceTensor.clone().detach() or sourceTensor.clone().detach().requires_grad_(True), rather than torch.tensor(sourceTensor).\n",
            "  test_dataset = torch.utils.data.TensorDataset(X_test, torch.tensor(y_test))\n"
          ]
        }
      ]
    },
    {
      "cell_type": "markdown",
      "source": [
        "1.4) For batch size=2, learning rate=0.00001, epochs=1"
      ],
      "metadata": {
        "id": "7a8jzboWKe91"
      }
    },
    {
      "cell_type": "code",
      "source": [
        "number_of_features=X_train.shape[1]\n",
        "number_of_classes=len(dataset['target_names'])\n",
        "\n",
        "model=MLP(number_of_features,number_of_classes)\n",
        "model,train_loss,valid_loss=train(model,TensorDataset(X_train,y_train),TensorDataset(X_valid,y_valid),1,0.00001,2)\n",
        "\n",
        "evaluate_model_comprehensive(model, X_test, y_test, names, num_samples=5)"
      ],
      "metadata": {
        "colab": {
          "base_uri": "https://localhost:8080/",
          "height": 1000
        },
        "id": "y7XVd0fJKia4",
        "outputId": "c55f3124-474b-44a6-9c42-4f58f283683b"
      },
      "execution_count": null,
      "outputs": [
        {
          "output_type": "stream",
          "name": "stdout",
          "text": [
            "             Values\n",
            "Metrics            \n",
            "Accuracy   0.400000\n",
            "Precision  0.165517\n",
            "Recall     0.400000\n",
            "F1-score   0.234146\n",
            "\n",
            "----------------------------------------------------------------------------\n",
            "\n"
          ]
        },
        {
          "output_type": "stream",
          "name": "stderr",
          "text": [
            "/usr/local/lib/python3.11/dist-packages/sklearn/metrics/_classification.py:1565: UndefinedMetricWarning: Precision is ill-defined and being set to 0.0 in labels with no predicted samples. Use `zero_division` parameter to control this behavior.\n",
            "  _warn_prf(average, modifier, f\"{metric.capitalize()} is\", len(result))\n"
          ]
        },
        {
          "output_type": "display_data",
          "data": {
            "text/plain": [
              "<Figure size 800x600 with 2 Axes>"
            ],
            "image/png": "[encoded data removed]"
          },
          "metadata": {}
        },
        {
          "output_type": "stream",
          "name": "stdout",
          "text": [
            "\n",
            "----------------------------------------------------------------------------\n",
            "\n",
            "Sample 1:\n",
            "Input: [-0.8894765377044678, -2.5387189388275146, -0.005622267723083496, -0.11304812878370285]\n",
            "Prediction: setosa\n",
            "Truth: versicolor\n",
            "\n",
            "Sample 2:\n",
            "Input: [-1.1388624906539917, -0.2787317633628845, -1.1862984895706177, -1.333967924118042]\n",
            "Prediction: setosa\n",
            "Truth: setosa\n",
            "\n",
            "Sample 3:\n",
            "Input: [-0.01662573032081127, -1.408725380897522, 0.8377178311347961, 1.2435294389724731]\n",
            "Prediction: setosa\n",
            "Truth: virginica\n",
            "\n",
            "Sample 4:\n",
            "Input: [-0.8894765377044678, 0.6252631545066833, -1.0738531351089478, -0.9269946813583374]\n",
            "Prediction: setosa\n",
            "Truth: setosa\n",
            "\n",
            "Sample 5:\n",
            "Input: [0.48214617371559143, -1.1827266216278076, 1.1750539541244507, 0.4295828938484192]\n",
            "Prediction: versicolor\n",
            "Truth: virginica\n",
            "\n"
          ]
        },
        {
          "output_type": "stream",
          "name": "stderr",
          "text": [
            "<ipython-input-37-9a652778d31a>:23: UserWarning: To copy construct from a tensor, it is recommended to use sourceTensor.clone().detach() or sourceTensor.clone().detach().requires_grad_(True), rather than torch.tensor(sourceTensor).\n",
            "  test_dataset = torch.utils.data.TensorDataset(X_test, torch.tensor(y_test))\n"
          ]
        }
      ]
    },
    {
      "cell_type": "markdown",
      "source": [
        "1.5) For batch size=2, learning rate=0.00001, epochs=3"
      ],
      "metadata": {
        "id": "iXGuvLpIKizF"
      }
    },
    {
      "cell_type": "code",
      "source": [
        "number_of_features=X_train.shape[1]\n",
        "number_of_classes=len(dataset['target_names'])\n",
        "\n",
        "model=MLP(number_of_features,number_of_classes)\n",
        "model,train_loss,valid_loss=train(model,TensorDataset(X_train,y_train),TensorDataset(X_valid,y_valid),3,0.00001,2)\n",
        "\n",
        "evaluate_model_comprehensive(model, X_test, y_test, names, num_samples=5)"
      ],
      "metadata": {
        "colab": {
          "base_uri": "https://localhost:8080/",
          "height": 1000
        },
        "id": "74mkX7HAKkn1",
        "outputId": "01c256b3-79b1-4ef3-d3bc-e640b20f9a74"
      },
      "execution_count": null,
      "outputs": [
        {
          "output_type": "stream",
          "name": "stdout",
          "text": [
            "             Values\n",
            "Metrics            \n",
            "Accuracy   0.200000\n",
            "Precision  0.195000\n",
            "Recall     0.200000\n",
            "F1-score   0.194805\n",
            "\n",
            "----------------------------------------------------------------------------\n",
            "\n"
          ]
        },
        {
          "output_type": "display_data",
          "data": {
            "text/plain": [
              "<Figure size 800x600 with 2 Axes>"
            ],
            "image/png": "[encoded data removed]"
          },
          "metadata": {}
        },
        {
          "output_type": "stream",
          "name": "stdout",
          "text": [
            "\n",
            "----------------------------------------------------------------------------\n",
            "\n",
            "Sample 1:\n",
            "Input: [0.35745319724082947, 0.6252631545066833, 0.5566045045852661, 0.7008984088897705]\n",
            "Prediction: setosa\n",
            "Truth: versicolor\n",
            "\n",
            "Sample 2:\n",
            "Input: [-0.3907046616077423, 1.303259253501892, -1.1300758123397827, -1.198310136795044]\n",
            "Prediction: versicolor\n",
            "Truth: setosa\n",
            "\n",
            "Sample 3:\n",
            "Input: [-0.7647835612297058, 1.5292580127716064, -0.9051850438117981, -0.9269946813583374]\n",
            "Prediction: setosa\n",
            "Truth: setosa\n",
            "\n",
            "Sample 4:\n",
            "Input: [-0.7647835612297058, 0.399264395236969, -1.0176304578781128, -0.7913368940353394]\n",
            "Prediction: virginica\n",
            "Truth: setosa\n",
            "\n",
            "Sample 5:\n",
            "Input: [0.731532096862793, 0.399264395236969, 0.669049859046936, 0.7008984088897705]\n",
            "Prediction: setosa\n",
            "Truth: versicolor\n",
            "\n"
          ]
        },
        {
          "output_type": "stream",
          "name": "stderr",
          "text": [
            "<ipython-input-37-9a652778d31a>:23: UserWarning: To copy construct from a tensor, it is recommended to use sourceTensor.clone().detach() or sourceTensor.clone().detach().requires_grad_(True), rather than torch.tensor(sourceTensor).\n",
            "  test_dataset = torch.utils.data.TensorDataset(X_test, torch.tensor(y_test))\n"
          ]
        }
      ]
    },
    {
      "cell_type": "markdown",
      "source": [
        "1.6) For batch size=2, learning rate=0.00001, epochs=5"
      ],
      "metadata": {
        "id": "W6_9to2zKk-g"
      }
    },
    {
      "cell_type": "code",
      "source": [
        "number_of_features=X_train.shape[1]\n",
        "number_of_classes=len(dataset['target_names'])\n",
        "\n",
        "model=MLP(number_of_features,number_of_classes)\n",
        "model,train_loss,valid_loss=train(model,TensorDataset(X_train,y_train),TensorDataset(X_valid,y_valid),5,0.00001,2)\n",
        "\n",
        "evaluate_model_comprehensive(model, X_test, y_test, names, num_samples=5)"
      ],
      "metadata": {
        "id": "xZFURQ07KnEf",
        "colab": {
          "base_uri": "https://localhost:8080/",
          "height": 1000
        },
        "outputId": "e9a2f018-d962-4be5-f724-58b1950f2359"
      },
      "execution_count": null,
      "outputs": [
        {
          "output_type": "stream",
          "name": "stdout",
          "text": [
            "             Values\n",
            "Metrics            \n",
            "Accuracy   0.266667\n",
            "Precision  0.178462\n",
            "Recall     0.266667\n",
            "F1-score   0.213636\n",
            "\n",
            "----------------------------------------------------------------------------\n",
            "\n"
          ]
        },
        {
          "output_type": "display_data",
          "data": {
            "text/plain": [
              "<Figure size 800x600 with 2 Axes>"
            ],
            "image/png": "[encoded data removed]"
          },
          "metadata": {}
        },
        {
          "output_type": "stream",
          "name": "stdout",
          "text": [
            "\n",
            "----------------------------------------------------------------------------\n",
            "\n",
            "Sample 1:\n",
            "Input: [-1.3882484436035156, 1.0772606134414673, -1.4111891984939575, -1.198310136795044]\n",
            "Prediction: versicolor\n",
            "Truth: setosa\n",
            "\n",
            "Sample 2:\n",
            "Input: [0.35745319724082947, 0.6252631545066833, 0.5566045045852661, 0.7008984088897705]\n",
            "Prediction: virginica\n",
            "Truth: versicolor\n",
            "\n",
            "Sample 3:\n",
            "Input: [-0.3907046616077423, 1.7552567720413208, -1.2425211668014526, -0.9269946813583374]\n",
            "Prediction: versicolor\n",
            "Truth: setosa\n",
            "\n",
            "Sample 4:\n",
            "Input: [-0.14131870865821838, -1.408725380897522, 0.21926842629909515, 0.02260962501168251]\n",
            "Prediction: virginica\n",
            "Truth: versicolor\n",
            "\n",
            "Sample 5:\n",
            "Input: [-1.7623274326324463, -0.2787317633628845, -1.3549665212631226, -1.333967924118042]\n",
            "Prediction: versicolor\n",
            "Truth: setosa\n",
            "\n"
          ]
        },
        {
          "output_type": "stream",
          "name": "stderr",
          "text": [
            "<ipython-input-37-9a652778d31a>:23: UserWarning: To copy construct from a tensor, it is recommended to use sourceTensor.clone().detach() or sourceTensor.clone().detach().requires_grad_(True), rather than torch.tensor(sourceTensor).\n",
            "  test_dataset = torch.utils.data.TensorDataset(X_test, torch.tensor(y_test))\n"
          ]
        }
      ]
    },
    {
      "cell_type": "markdown",
      "source": [
        "1.7) For batch size=4, learning rate=0.001, epochs=1"
      ],
      "metadata": {
        "id": "UvrHy266KnZL"
      }
    },
    {
      "cell_type": "code",
      "source": [
        "number_of_features=X_train.shape[1]\n",
        "number_of_classes=len(dataset['target_names'])\n",
        "\n",
        "model=MLP(number_of_features,number_of_classes)\n",
        "model,train_loss,valid_loss=train(model,TensorDataset(X_train,y_train),TensorDataset(X_valid,y_valid),1,0.001,4)\n",
        "\n",
        "evaluate_model_comprehensive(model, X_test, y_test, names, num_samples=5)"
      ],
      "metadata": {
        "id": "pv7CIJ0dKwpz",
        "colab": {
          "base_uri": "https://localhost:8080/",
          "height": 1000
        },
        "outputId": "c2360cba-3648-4562-fb48-49121df89060"
      },
      "execution_count": null,
      "outputs": [
        {
          "output_type": "stream",
          "name": "stdout",
          "text": [
            "             Values\n",
            "Metrics            \n",
            "Accuracy   0.666667\n",
            "Precision  0.480000\n",
            "Recall     0.666667\n",
            "F1-score   0.555556\n",
            "\n",
            "----------------------------------------------------------------------------\n",
            "\n"
          ]
        },
        {
          "output_type": "stream",
          "name": "stderr",
          "text": [
            "/usr/local/lib/python3.11/dist-packages/sklearn/metrics/_classification.py:1565: UndefinedMetricWarning: Precision is ill-defined and being set to 0.0 in labels with no predicted samples. Use `zero_division` parameter to control this behavior.\n",
            "  _warn_prf(average, modifier, f\"{metric.capitalize()} is\", len(result))\n"
          ]
        },
        {
          "output_type": "display_data",
          "data": {
            "text/plain": [
              "<Figure size 800x600 with 2 Axes>"
            ],
            "image/png": "[encoded data removed]"
          },
          "metadata": {}
        },
        {
          "output_type": "stream",
          "name": "stdout",
          "text": [
            "\n",
            "----------------------------------------------------------------------------\n",
            "\n",
            "Sample 1:\n",
            "Input: [-0.7647835612297058, 0.6252631545066833, -1.1300758123397827, -1.198310136795044]\n",
            "Prediction: setosa\n",
            "Truth: setosa\n",
            "\n",
            "Sample 2:\n",
            "Input: [-1.1388624906539917, -0.2787317633628845, -1.1862984895706177, -1.333967924118042]\n",
            "Prediction: setosa\n",
            "Truth: setosa\n",
            "\n",
            "Sample 3:\n",
            "Input: [0.731532096862793, -0.956727921962738, 0.7814951539039612, 0.9722139239311218]\n",
            "Prediction: virginica\n",
            "Truth: virginica\n",
            "\n",
            "Sample 4:\n",
            "Input: [-0.7647835612297058, 0.399264395236969, -1.0176304578781128, -0.7913368940353394]\n",
            "Prediction: setosa\n",
            "Truth: setosa\n",
            "\n",
            "Sample 5:\n",
            "Input: [0.10806724429130554, -0.956727921962738, 0.33171379566192627, -0.11304812878370285]\n",
            "Prediction: virginica\n",
            "Truth: versicolor\n",
            "\n"
          ]
        },
        {
          "output_type": "stream",
          "name": "stderr",
          "text": [
            "<ipython-input-37-9a652778d31a>:23: UserWarning: To copy construct from a tensor, it is recommended to use sourceTensor.clone().detach() or sourceTensor.clone().detach().requires_grad_(True), rather than torch.tensor(sourceTensor).\n",
            "  test_dataset = torch.utils.data.TensorDataset(X_test, torch.tensor(y_test))\n"
          ]
        }
      ]
    },
    {
      "cell_type": "markdown",
      "source": [
        "1.8) For batch size=4, learning rate=0.001, epochs=3"
      ],
      "metadata": {
        "id": "4wlUHXEuKxD4"
      }
    },
    {
      "cell_type": "code",
      "source": [
        "number_of_features=X_train.shape[1]\n",
        "number_of_classes=len(dataset['target_names'])\n",
        "\n",
        "model=MLP(number_of_features,number_of_classes)\n",
        "model,train_loss,valid_loss=train(model,TensorDataset(X_train,y_train),TensorDataset(X_valid,y_valid),3,0.001,4)\n",
        "\n",
        "evaluate_model_comprehensive(model, X_test, y_test, names, num_samples=5)"
      ],
      "metadata": {
        "id": "7iB6nhgXK0T6",
        "colab": {
          "base_uri": "https://localhost:8080/",
          "height": 1000
        },
        "outputId": "a072ef24-5ccf-4d90-eb5f-237679fbde5a"
      },
      "execution_count": null,
      "outputs": [
        {
          "output_type": "stream",
          "name": "stdout",
          "text": [
            "             Values\n",
            "Metrics            \n",
            "Accuracy   0.700000\n",
            "Precision  0.511607\n",
            "Recall     0.700000\n",
            "F1-score   0.585231\n",
            "\n",
            "----------------------------------------------------------------------------\n",
            "\n"
          ]
        },
        {
          "output_type": "stream",
          "name": "stderr",
          "text": [
            "/usr/local/lib/python3.11/dist-packages/sklearn/metrics/_classification.py:1565: UndefinedMetricWarning: Precision is ill-defined and being set to 0.0 in labels with no predicted samples. Use `zero_division` parameter to control this behavior.\n",
            "  _warn_prf(average, modifier, f\"{metric.capitalize()} is\", len(result))\n"
          ]
        },
        {
          "output_type": "display_data",
          "data": {
            "text/plain": [
              "<Figure size 800x600 with 2 Axes>"
            ],
            "image/png": "[encoded data removed]"
          },
          "metadata": {}
        },
        {
          "output_type": "stream",
          "name": "stdout",
          "text": [
            "\n",
            "----------------------------------------------------------------------------\n",
            "\n",
            "Sample 1:\n",
            "Input: [-0.7647835612297058, 0.399264395236969, -1.0176304578781128, -0.7913368940353394]\n",
            "Prediction: setosa\n",
            "Truth: setosa\n",
            "\n",
            "Sample 2:\n",
            "Input: [-0.14131870865821838, -0.2787317633628845, 0.5566045045852661, 0.5652406215667725]\n",
            "Prediction: virginica\n",
            "Truth: versicolor\n",
            "\n",
            "Sample 3:\n",
            "Input: [-0.8894765377044678, -2.5387189388275146, -0.005622267723083496, -0.11304812878370285]\n",
            "Prediction: setosa\n",
            "Truth: versicolor\n",
            "\n",
            "Sample 4:\n",
            "Input: [0.35745319724082947, 0.6252631545066833, 0.5566045045852661, 0.7008984088897705]\n",
            "Prediction: virginica\n",
            "Truth: versicolor\n",
            "\n",
            "Sample 5:\n",
            "Input: [0.10806724429130554, -0.956727921962738, 0.33171379566192627, -0.11304812878370285]\n",
            "Prediction: virginica\n",
            "Truth: versicolor\n",
            "\n"
          ]
        },
        {
          "output_type": "stream",
          "name": "stderr",
          "text": [
            "<ipython-input-37-9a652778d31a>:23: UserWarning: To copy construct from a tensor, it is recommended to use sourceTensor.clone().detach() or sourceTensor.clone().detach().requires_grad_(True), rather than torch.tensor(sourceTensor).\n",
            "  test_dataset = torch.utils.data.TensorDataset(X_test, torch.tensor(y_test))\n"
          ]
        }
      ]
    },
    {
      "cell_type": "markdown",
      "source": [
        "1.9) For batch size=4, learning rate=0.001, epochs=5"
      ],
      "metadata": {
        "id": "BEmUxiw9K0k3"
      }
    },
    {
      "cell_type": "code",
      "source": [
        "number_of_features=X_train.shape[1]\n",
        "number_of_classes=len(dataset['target_names'])\n",
        "\n",
        "model=MLP(number_of_features,number_of_classes)\n",
        "model,train_loss,valid_loss=train(model,TensorDataset(X_train,y_train),TensorDataset(X_valid,y_valid),5,0.001,4)\n",
        "\n",
        "evaluate_model_comprehensive(model, X_test, y_test, names, num_samples=5)"
      ],
      "metadata": {
        "id": "R-oXWY7tK2ik",
        "colab": {
          "base_uri": "https://localhost:8080/",
          "height": 1000
        },
        "outputId": "0697cf4a-f580-424f-b352-c127692c3091"
      },
      "execution_count": null,
      "outputs": [
        {
          "output_type": "stream",
          "name": "stdout",
          "text": [
            "             Values\n",
            "Metrics            \n",
            "Accuracy   0.900000\n",
            "Precision  0.925000\n",
            "Recall     0.900000\n",
            "F1-score   0.897143\n",
            "\n",
            "----------------------------------------------------------------------------\n",
            "\n"
          ]
        },
        {
          "output_type": "display_data",
          "data": {
            "text/plain": [
              "<Figure size 800x600 with 2 Axes>"
            ],
            "image/png": "[encoded data removed]"
          },
          "metadata": {}
        },
        {
          "output_type": "stream",
          "name": "stdout",
          "text": [
            "\n",
            "----------------------------------------------------------------------------\n",
            "\n",
            "Sample 1:\n",
            "Input: [0.9809180498123169, -0.2787317633628845, 0.9501631855964661, 1.2435294389724731]\n",
            "Prediction: virginica\n",
            "Truth: virginica\n",
            "\n",
            "Sample 2:\n",
            "Input: [-0.14131870865821838, -1.408725380897522, 0.21926842629909515, 0.02260962501168251]\n",
            "Prediction: versicolor\n",
            "Truth: versicolor\n",
            "\n",
            "Sample 3:\n",
            "Input: [-0.8894765377044678, -2.5387189388275146, -0.005622267723083496, -0.11304812878370285]\n",
            "Prediction: versicolor\n",
            "Truth: versicolor\n",
            "\n",
            "Sample 4:\n",
            "Input: [-0.8894765377044678, 0.6252631545066833, -1.0738531351089478, -0.9269946813583374]\n",
            "Prediction: setosa\n",
            "Truth: setosa\n",
            "\n",
            "Sample 5:\n",
            "Input: [1.2303040027618408, -0.052733033895492554, 1.1750539541244507, 1.7861604690551758]\n",
            "Prediction: virginica\n",
            "Truth: virginica\n",
            "\n"
          ]
        },
        {
          "output_type": "stream",
          "name": "stderr",
          "text": [
            "<ipython-input-37-9a652778d31a>:23: UserWarning: To copy construct from a tensor, it is recommended to use sourceTensor.clone().detach() or sourceTensor.clone().detach().requires_grad_(True), rather than torch.tensor(sourceTensor).\n",
            "  test_dataset = torch.utils.data.TensorDataset(X_test, torch.tensor(y_test))\n"
          ]
        }
      ]
    },
    {
      "cell_type": "markdown",
      "source": [
        "1.10) For batch size=4, learning rate=0.00001, epochs=1"
      ],
      "metadata": {
        "id": "NpiqXuycK21g"
      }
    },
    {
      "cell_type": "code",
      "source": [
        "number_of_features=X_train.shape[1]\n",
        "number_of_classes=len(dataset['target_names'])\n",
        "\n",
        "model=MLP(number_of_features,number_of_classes)\n",
        "model,train_loss,valid_loss=train(model,TensorDataset(X_train,y_train),TensorDataset(X_valid,y_valid),1,0.00001,4)\n",
        "\n",
        "evaluate_model_comprehensive(model, X_test, y_test, names, num_samples=5)"
      ],
      "metadata": {
        "id": "1z8ZqizoK5Ec",
        "colab": {
          "base_uri": "https://localhost:8080/",
          "height": 1000
        },
        "outputId": "db9abafb-f030-4844-a472-bccb95e80f81"
      },
      "execution_count": null,
      "outputs": [
        {
          "output_type": "stream",
          "name": "stderr",
          "text": [
            "/usr/local/lib/python3.11/dist-packages/sklearn/metrics/_classification.py:1565: UndefinedMetricWarning: Precision is ill-defined and being set to 0.0 in labels with no predicted samples. Use `zero_division` parameter to control this behavior.\n",
            "  _warn_prf(average, modifier, f\"{metric.capitalize()} is\", len(result))\n"
          ]
        },
        {
          "output_type": "stream",
          "name": "stdout",
          "text": [
            "             Values\n",
            "Metrics            \n",
            "Accuracy   0.366667\n",
            "Precision  0.392308\n",
            "Recall     0.366667\n",
            "F1-score   0.287143\n",
            "\n",
            "----------------------------------------------------------------------------\n",
            "\n"
          ]
        },
        {
          "output_type": "display_data",
          "data": {
            "text/plain": [
              "<Figure size 800x600 with 2 Axes>"
            ],
            "image/png": "[encoded data removed]"
          },
          "metadata": {}
        },
        {
          "output_type": "stream",
          "name": "stdout",
          "text": [
            "\n",
            "----------------------------------------------------------------------------\n",
            "\n",
            "Sample 1:\n",
            "Input: [0.35745319724082947, -0.2787317633628845, 0.725272536277771, 0.9722139239311218]\n",
            "Prediction: versicolor\n",
            "Truth: virginica\n",
            "\n",
            "Sample 2:\n",
            "Input: [-0.01662573032081127, -1.408725380897522, 0.8377178311347961, 1.2435294389724731]\n",
            "Prediction: versicolor\n",
            "Truth: virginica\n",
            "\n",
            "Sample 3:\n",
            "Input: [-0.01662573032081127, -0.7307292222976685, 0.5566045045852661, 0.29392513632774353]\n",
            "Prediction: versicolor\n",
            "Truth: versicolor\n",
            "\n",
            "Sample 4:\n",
            "Input: [-0.8894765377044678, 0.6252631545066833, -1.0738531351089478, -0.9269946813583374]\n",
            "Prediction: versicolor\n",
            "Truth: setosa\n",
            "\n",
            "Sample 5:\n",
            "Input: [-1.0141695737838745, -0.052733033895492554, -1.1300758123397827, -1.198310136795044]\n",
            "Prediction: setosa\n",
            "Truth: setosa\n",
            "\n"
          ]
        },
        {
          "output_type": "stream",
          "name": "stderr",
          "text": [
            "<ipython-input-37-9a652778d31a>:23: UserWarning: To copy construct from a tensor, it is recommended to use sourceTensor.clone().detach() or sourceTensor.clone().detach().requires_grad_(True), rather than torch.tensor(sourceTensor).\n",
            "  test_dataset = torch.utils.data.TensorDataset(X_test, torch.tensor(y_test))\n"
          ]
        }
      ]
    },
    {
      "cell_type": "markdown",
      "source": [
        "1.11) For batch size=4, learning rate=0.00001, epochs=3"
      ],
      "metadata": {
        "id": "hHHf9O9HK5c7"
      }
    },
    {
      "cell_type": "code",
      "source": [
        "number_of_features=X_train.shape[1]\n",
        "number_of_classes=len(dataset['target_names'])\n",
        "\n",
        "model=MLP(number_of_features,number_of_classes)\n",
        "model,train_loss,valid_loss=train(model,TensorDataset(X_train,y_train),TensorDataset(X_valid,y_valid),3,0.00001,4)\n",
        "\n",
        "evaluate_model_comprehensive(model, X_test, y_test, names, num_samples=5)"
      ],
      "metadata": {
        "id": "8T1NxcWoK8Yz",
        "colab": {
          "base_uri": "https://localhost:8080/",
          "height": 1000
        },
        "outputId": "20bd9c78-f92d-435e-8c9f-a447eca734b5"
      },
      "execution_count": null,
      "outputs": [
        {
          "output_type": "stream",
          "name": "stdout",
          "text": [
            "           Values\n",
            "Metrics          \n",
            "Accuracy     0.30\n",
            "Precision    0.15\n",
            "Recall       0.30\n",
            "F1-score     0.20\n",
            "\n",
            "----------------------------------------------------------------------------\n",
            "\n"
          ]
        },
        {
          "output_type": "stream",
          "name": "stderr",
          "text": [
            "/usr/local/lib/python3.11/dist-packages/sklearn/metrics/_classification.py:1565: UndefinedMetricWarning: Precision is ill-defined and being set to 0.0 in labels with no predicted samples. Use `zero_division` parameter to control this behavior.\n",
            "  _warn_prf(average, modifier, f\"{metric.capitalize()} is\", len(result))\n"
          ]
        },
        {
          "output_type": "display_data",
          "data": {
            "text/plain": [
              "<Figure size 800x600 with 2 Axes>"
            ],
            "image/png": "[encoded data removed]"
          },
          "metadata": {}
        },
        {
          "output_type": "stream",
          "name": "stdout",
          "text": [
            "\n",
            "----------------------------------------------------------------------------\n",
            "\n",
            "Sample 1:\n",
            "Input: [-0.01662573032081127, -1.408725380897522, 0.8377178311347961, 1.2435294389724731]\n",
            "Prediction: virginica\n",
            "Truth: virginica\n",
            "\n",
            "Sample 2:\n",
            "Input: [-0.8894765377044678, 0.6252631545066833, -1.0738531351089478, -0.9269946813583374]\n",
            "Prediction: versicolor\n",
            "Truth: setosa\n",
            "\n",
            "Sample 3:\n",
            "Input: [1.3549970388412476, -0.7307292222976685, 0.725272536277771, 0.4295828938484192]\n",
            "Prediction: virginica\n",
            "Truth: versicolor\n",
            "\n",
            "Sample 4:\n",
            "Input: [1.2303040027618408, -0.052733033895492554, 1.1750539541244507, 1.7861604690551758]\n",
            "Prediction: virginica\n",
            "Truth: virginica\n",
            "\n",
            "Sample 5:\n",
            "Input: [0.10806724429130554, -0.956727921962738, 0.33171379566192627, -0.11304812878370285]\n",
            "Prediction: virginica\n",
            "Truth: versicolor\n",
            "\n"
          ]
        },
        {
          "output_type": "stream",
          "name": "stderr",
          "text": [
            "<ipython-input-37-9a652778d31a>:23: UserWarning: To copy construct from a tensor, it is recommended to use sourceTensor.clone().detach() or sourceTensor.clone().detach().requires_grad_(True), rather than torch.tensor(sourceTensor).\n",
            "  test_dataset = torch.utils.data.TensorDataset(X_test, torch.tensor(y_test))\n"
          ]
        }
      ]
    },
    {
      "cell_type": "markdown",
      "source": [
        "1.12) For batch size=4, learning rate=0.00001, epochs=5"
      ],
      "metadata": {
        "id": "ZuDD6_g2K8xB"
      }
    },
    {
      "cell_type": "code",
      "source": [
        "number_of_features=X_train.shape[1]\n",
        "number_of_classes=len(dataset['target_names'])\n",
        "\n",
        "model=MLP(number_of_features,number_of_classes)\n",
        "model,train_loss,valid_loss=train(model,TensorDataset(X_train,y_train),TensorDataset(X_valid,y_valid),5,0.00001,4)\n",
        "\n",
        "evaluate_model_comprehensive(model, X_test, y_test, names, num_samples=5)"
      ],
      "metadata": {
        "id": "28tKHPUIK-0V",
        "colab": {
          "base_uri": "https://localhost:8080/",
          "height": 1000
        },
        "outputId": "dce68367-9058-4f80-de76-60c5c806b7d6"
      },
      "execution_count": null,
      "outputs": [
        {
          "output_type": "stream",
          "name": "stdout",
          "text": [
            "             Values\n",
            "Metrics            \n",
            "Accuracy   0.433333\n",
            "Precision  0.320455\n",
            "Recall     0.433333\n",
            "F1-score   0.347249\n",
            "\n",
            "----------------------------------------------------------------------------\n",
            "\n"
          ]
        },
        {
          "output_type": "stream",
          "name": "stderr",
          "text": [
            "/usr/local/lib/python3.11/dist-packages/sklearn/metrics/_classification.py:1565: UndefinedMetricWarning: Precision is ill-defined and being set to 0.0 in labels with no predicted samples. Use `zero_division` parameter to control this behavior.\n",
            "  _warn_prf(average, modifier, f\"{metric.capitalize()} is\", len(result))\n"
          ]
        },
        {
          "output_type": "display_data",
          "data": {
            "text/plain": [
              "<Figure size 800x600 with 2 Axes>"
            ],
            "image/png": "[encoded data removed]"
          },
          "metadata": {}
        },
        {
          "output_type": "stream",
          "name": "stdout",
          "text": [
            "\n",
            "----------------------------------------------------------------------------\n",
            "\n",
            "Sample 1:\n",
            "Input: [-0.7647835612297058, 0.399264395236969, -1.0176304578781128, -0.7913368940353394]\n",
            "Prediction: versicolor\n",
            "Truth: setosa\n",
            "\n",
            "Sample 2:\n",
            "Input: [-0.14131870865821838, -1.408725380897522, 0.21926842629909515, 0.02260962501168251]\n",
            "Prediction: versicolor\n",
            "Truth: versicolor\n",
            "\n",
            "Sample 3:\n",
            "Input: [0.731532096862793, -0.956727921962738, 0.7814951539039612, 0.9722139239311218]\n",
            "Prediction: versicolor\n",
            "Truth: virginica\n",
            "\n",
            "Sample 4:\n",
            "Input: [-0.14131870865821838, -0.2787317633628845, 0.5566045045852661, 0.5652406215667725]\n",
            "Prediction: versicolor\n",
            "Truth: versicolor\n",
            "\n",
            "Sample 5:\n",
            "Input: [-0.01662573032081127, -0.2787317633628845, 0.38793644309043884, 0.15826737880706787]\n",
            "Prediction: versicolor\n",
            "Truth: versicolor\n",
            "\n"
          ]
        },
        {
          "output_type": "stream",
          "name": "stderr",
          "text": [
            "<ipython-input-37-9a652778d31a>:23: UserWarning: To copy construct from a tensor, it is recommended to use sourceTensor.clone().detach() or sourceTensor.clone().detach().requires_grad_(True), rather than torch.tensor(sourceTensor).\n",
            "  test_dataset = torch.utils.data.TensorDataset(X_test, torch.tensor(y_test))\n"
          ]
        }
      ]
    },
    {
      "cell_type": "code",
      "source": [
        "pip install ray"
      ],
      "metadata": {
        "colab": {
          "base_uri": "https://localhost:8080/"
        },
        "id": "vI7VnAIBdkjy",
        "outputId": "971b7f61-c046-4e89-88cd-53a229956a2e"
      },
      "execution_count": null,
      "outputs": [
        {
          "output_type": "stream",
          "name": "stdout",
          "text": [
            "Requirement already satisfied: ray in /usr/local/lib/python3.11/dist-packages (2.42.1)\n",
            "Requirement already satisfied: click>=7.0 in /usr/local/lib/python3.11/dist-packages (from ray) (8.1.8)\n",
            "Requirement already satisfied: filelock in /usr/local/lib/python3.11/dist-packages (from ray) (3.17.0)\n",
            "Requirement already satisfied: jsonschema in /usr/local/lib/python3.11/dist-packages (from ray) (4.23.0)\n",
            "Requirement already satisfied: msgpack<2.0.0,>=1.0.0 in /usr/local/lib/python3.11/dist-packages (from ray) (1.1.0)\n",
            "Requirement already satisfied: packaging in /usr/local/lib/python3.11/dist-packages (from ray) (24.2)\n",
            "Requirement already satisfied: protobuf!=3.19.5,>=3.15.3 in /usr/local/lib/python3.11/dist-packages (from ray) (4.25.6)\n",
            "Requirement already satisfied: pyyaml in /usr/local/lib/python3.11/dist-packages (from ray) (6.0.2)\n",
            "Requirement already satisfied: aiosignal in /usr/local/lib/python3.11/dist-packages (from ray) (1.3.2)\n",
            "Requirement already satisfied: frozenlist in /usr/local/lib/python3.11/dist-packages (from ray) (1.5.0)\n",
            "Requirement already satisfied: requests in /usr/local/lib/python3.11/dist-packages (from ray) (2.32.3)\n",
            "Requirement already satisfied: attrs>=22.2.0 in /usr/local/lib/python3.11/dist-packages (from jsonschema->ray) (25.1.0)\n",
            "Requirement already satisfied: jsonschema-specifications>=2023.03.6 in /usr/local/lib/python3.11/dist-packages (from jsonschema->ray) (2024.10.1)\n",
            "Requirement already satisfied: referencing>=0.28.4 in /usr/local/lib/python3.11/dist-packages (from jsonschema->ray) (0.36.2)\n",
            "Requirement already satisfied: rpds-py>=0.7.1 in /usr/local/lib/python3.11/dist-packages (from jsonschema->ray) (0.22.3)\n",
            "Requirement already satisfied: charset-normalizer<4,>=2 in /usr/local/lib/python3.11/dist-packages (from requests->ray) (3.4.1)\n",
            "Requirement already satisfied: idna<4,>=2.5 in /usr/local/lib/python3.11/dist-packages (from requests->ray) (3.10)\n",
            "Requirement already satisfied: urllib3<3,>=1.21.1 in /usr/local/lib/python3.11/dist-packages (from requests->ray) (2.3.0)\n",
            "Requirement already satisfied: certifi>=2017.4.17 in /usr/local/lib/python3.11/dist-packages (from requests->ray) (2025.1.31)\n",
            "Requirement already satisfied: typing-extensions>=4.4.0 in /usr/local/lib/python3.11/dist-packages (from referencing>=0.28.4->jsonschema->ray) (4.12.2)\n"
          ]
        }
      ]
    },
    {
      "cell_type": "code",
      "source": [
        "pip install \"ray[tune]\""
      ],
      "metadata": {
        "colab": {
          "base_uri": "https://localhost:8080/"
        },
        "id": "iLXitGdtdsI7",
        "outputId": "cf61988a-84e6-4669-bca3-7f1da5cea0f5"
      },
      "execution_count": null,
      "outputs": [
        {
          "output_type": "stream",
          "name": "stdout",
          "text": [
            "Requirement already satisfied: ray[tune] in /usr/local/lib/python3.11/dist-packages (2.42.1)\n",
            "Requirement already satisfied: click>=7.0 in /usr/local/lib/python3.11/dist-packages (from ray[tune]) (8.1.8)\n",
            "Requirement already satisfied: filelock in /usr/local/lib/python3.11/dist-packages (from ray[tune]) (3.17.0)\n",
            "Requirement already satisfied: jsonschema in /usr/local/lib/python3.11/dist-packages (from ray[tune]) (4.23.0)\n",
            "Requirement already satisfied: msgpack<2.0.0,>=1.0.0 in /usr/local/lib/python3.11/dist-packages (from ray[tune]) (1.1.0)\n",
            "Requirement already satisfied: packaging in /usr/local/lib/python3.11/dist-packages (from ray[tune]) (24.2)\n",
            "Requirement already satisfied: protobuf!=3.19.5,>=3.15.3 in /usr/local/lib/python3.11/dist-packages (from ray[tune]) (4.25.6)\n",
            "Requirement already satisfied: pyyaml in /usr/local/lib/python3.11/dist-packages (from ray[tune]) (6.0.2)\n",
            "Requirement already satisfied: aiosignal in /usr/local/lib/python3.11/dist-packages (from ray[tune]) (1.3.2)\n",
            "Requirement already satisfied: frozenlist in /usr/local/lib/python3.11/dist-packages (from ray[tune]) (1.5.0)\n",
            "Requirement already satisfied: requests in /usr/local/lib/python3.11/dist-packages (from ray[tune]) (2.32.3)\n",
            "Requirement already satisfied: pandas in /usr/local/lib/python3.11/dist-packages (from ray[tune]) (2.2.2)\n",
            "Requirement already satisfied: tensorboardX>=1.9 in /usr/local/lib/python3.11/dist-packages (from ray[tune]) (2.6.2.2)\n",
            "Requirement already satisfied: pyarrow>=9.0.0 in /usr/local/lib/python3.11/dist-packages (from ray[tune]) (17.0.0)\n",
            "Requirement already satisfied: fsspec in /usr/local/lib/python3.11/dist-packages (from ray[tune]) (2024.10.0)\n",
            "Requirement already satisfied: numpy>=1.16.6 in /usr/local/lib/python3.11/dist-packages (from pyarrow>=9.0.0->ray[tune]) (1.26.4)\n",
            "Requirement already satisfied: attrs>=22.2.0 in /usr/local/lib/python3.11/dist-packages (from jsonschema->ray[tune]) (25.1.0)\n",
            "Requirement already satisfied: jsonschema-specifications>=2023.03.6 in /usr/local/lib/python3.11/dist-packages (from jsonschema->ray[tune]) (2024.10.1)\n",
            "Requirement already satisfied: referencing>=0.28.4 in /usr/local/lib/python3.11/dist-packages (from jsonschema->ray[tune]) (0.36.2)\n",
            "Requirement already satisfied: rpds-py>=0.7.1 in /usr/local/lib/python3.11/dist-packages (from jsonschema->ray[tune]) (0.22.3)\n",
            "Requirement already satisfied: python-dateutil>=2.8.2 in /usr/local/lib/python3.11/dist-packages (from pandas->ray[tune]) (2.8.2)\n",
            "Requirement already satisfied: pytz>=2020.1 in /usr/local/lib/python3.11/dist-packages (from pandas->ray[tune]) (2025.1)\n",
            "Requirement already satisfied: tzdata>=2022.7 in /usr/local/lib/python3.11/dist-packages (from pandas->ray[tune]) (2025.1)\n",
            "Requirement already satisfied: charset-normalizer<4,>=2 in /usr/local/lib/python3.11/dist-packages (from requests->ray[tune]) (3.4.1)\n",
            "Requirement already satisfied: idna<4,>=2.5 in /usr/local/lib/python3.11/dist-packages (from requests->ray[tune]) (3.10)\n",
            "Requirement already satisfied: urllib3<3,>=1.21.1 in /usr/local/lib/python3.11/dist-packages (from requests->ray[tune]) (2.3.0)\n",
            "Requirement already satisfied: certifi>=2017.4.17 in /usr/local/lib/python3.11/dist-packages (from requests->ray[tune]) (2025.1.31)\n",
            "Requirement already satisfied: six>=1.5 in /usr/local/lib/python3.11/dist-packages (from python-dateutil>=2.8.2->pandas->ray[tune]) (1.17.0)\n",
            "Requirement already satisfied: typing-extensions>=4.4.0 in /usr/local/lib/python3.11/dist-packages (from referencing>=0.28.4->jsonschema->ray[tune]) (4.12.2)\n"
          ]
        }
      ]
    },
    {
      "cell_type": "code",
      "source": [
        "import torch\n",
        "import torch.nn as nn\n",
        "import torch.optim as optim\n",
        "import numpy as np\n",
        "from sklearn.model_selection import train_test_split\n",
        "from sklearn.metrics import accuracy_score, f1_score\n",
        "import ray\n",
        "from ray import tune\n",
        "from ray.tune import Tuner\n",
        "from ray.tune.search.optuna import OptunaSearch\n",
        "from ray.tune.schedulers import ASHAScheduler\n",
        "import pandas as pd\n",
        "\n",
        "# Simulated Dataset (Replace with actual dataset)\n",
        "X = np.random.rand(1000, 10)  # 1000 samples, 10 features\n",
        "y = np.random.randint(0, 2, 1000)  # Binary classification\n",
        "\n",
        "# Split dataset inside function\n",
        "def load_data():\n",
        "    X_train, X_val, y_train, y_val = train_test_split(X, y, test_size=0.2, random_state=42)\n",
        "    X_train = torch.tensor(X_train, dtype=torch.float32)\n",
        "    y_train = torch.tensor(y_train, dtype=torch.long)\n",
        "    X_val = torch.tensor(X_val, dtype=torch.float32)\n",
        "    y_val = torch.tensor(y_val, dtype=torch.long)\n",
        "    return X_train, X_val, y_train, y_val\n",
        "\n",
        "# Define Neural Network Model\n",
        "class SimpleNN(nn.Module):\n",
        "    def __init__(self, input_size, output_size):\n",
        "        super(SimpleNN, self).__init__()\n",
        "        self.fc = nn.Linear(input_size, output_size)\n",
        "\n",
        "    def forward(self, x):\n",
        "        return self.fc(x)\n",
        "\n",
        "# Training Function\n",
        "def train_model_tune(config):\n",
        "    # Load dataset inside function\n",
        "    X_train, X_val, y_train, y_val = load_data()\n",
        "\n",
        "    # Convert dataset into DataLoader\n",
        "    train_loader = torch.utils.data.DataLoader(list(zip(X_train, y_train)), batch_size=config[\"batch_size\"], shuffle=True)\n",
        "    val_loader = torch.utils.data.DataLoader(list(zip(X_val, y_val)), batch_size=config[\"batch_size\"], shuffle=False)\n",
        "\n",
        "    model = SimpleNN(input_size=10, output_size=2)  # Adjust input/output size as needed\n",
        "    criterion = nn.CrossEntropyLoss()\n",
        "    optimizer = optim.Adam(model.parameters(), lr=config[\"learning_rate\"])\n",
        "\n",
        "    for epoch in range(config[\"epochs\"]):\n",
        "        model.train()\n",
        "        for inputs, targets in train_loader:\n",
        "            optimizer.zero_grad()\n",
        "            outputs = model(inputs)\n",
        "            loss = criterion(outputs, targets)\n",
        "            loss.backward()\n",
        "            optimizer.step()\n",
        "\n",
        "    # Evaluate\n",
        "    model.eval()\n",
        "    all_preds, all_labels = [], []\n",
        "    with torch.no_grad():\n",
        "        for inputs, targets in val_loader:\n",
        "            outputs = model(inputs)\n",
        "            preds = torch.argmax(outputs, dim=1)\n",
        "            all_preds.extend(preds.numpy())\n",
        "            all_labels.extend(targets.numpy())\n",
        "\n",
        "    accuracy= accuracy_score(all_labels, all_preds)\n",
        "    f1 = f1_score(all_labels, all_preds, average=\"macro\")\n",
        "\n",
        "    # Report metrics to Ray Tune\n",
        "    tune.report(accuracy=float(accuracy), f1_score=float(f1))  # Use 'accuracy' and 'f1_score' as metric names\n",
        "\n",
        "# Define Search Spaces\n",
        "grid_search_space = {\n",
        "    \"batch_size\": tune.grid_search([16, 32, 64]),\n",
        "    \"learning_rate\": tune.grid_search([1e-3, 1e-2, 1e-4]),\n",
        "    \"epochs\": tune.grid_search([10, 20, 30])\n",
        "}\n",
        "\n",
        "random_search_space = {\n",
        "    \"batch_size\": tune.choice([16, 32, 64]),\n",
        "    \"learning_rate\": tune.loguniform(1e-4, 1e-2),\n",
        "    \"epochs\": tune.choice([10, 20, 30])\n",
        "}\n",
        "\n",
        "bohb_search_space = {\n",
        "    \"batch_size\": tune.randint(16, 64),\n",
        "    \"learning_rate\": tune.loguniform(1e-4, 1e-2),\n",
        "    \"epochs\": tune.randint(10, 30)\n",
        "}\n",
        "\n",
        "# Initialize Ray\n",
        "ray.init(ignore_reinit_error=True)  # Suppress reinitialization error\n",
        "\n",
        "# Run Grid Search\n",
        "grid_tuner = Tuner(\n",
        "    train_model_tune,\n",
        "    param_space=grid_search_space,\n",
        "    tune_config=tune.TuneConfig(\n",
        "        metric=\"accuracy\",  # Use 'accuracy' as the metric\n",
        "        mode=\"max\"\n",
        "    )\n",
        ")\n",
        "grid_results = grid_tuner.fit()\n",
        "\n",
        "# Run Random Search\n",
        "random_tuner = Tuner(\n",
        "    train_model_tune,\n",
        "    param_space=random_search_space,\n",
        "    tune_config=tune.TuneConfig(\n",
        "        metric=\"accuracy\",  # Use 'accuracy' as the metric\n",
        "        mode=\"max\",\n",
        "        num_samples=10  # Run 10 different trials\n",
        "    )\n",
        ")\n",
        "random_results = random_tuner.fit()\n",
        "\n",
        "# Run Hyperband Search\n",
        "hyperband_tuner = Tuner(\n",
        "    train_model_tune,\n",
        "    param_space=random_search_space,\n",
        "    tune_config=tune.TuneConfig(\n",
        "        metric=\"accuracy\",  # Use 'accuracy' as the metric\n",
        "        mode=\"max\",\n",
        "        scheduler=ASHAScheduler(\n",
        "            max_t=30,  # Max epochs\n",
        "            grace_period=10,  # Minimum epochs before stopping bad trials\n",
        "            reduction_factor=2  # Halve the number of trials in each round\n",
        "        ),\n",
        "        num_samples=10  # Run 10 different trials\n",
        "    )\n",
        ")\n",
        "hyperband_results = hyperband_tuner.fit()\n",
        "\n",
        "# Run Bayesian Optimization (BOHB)\n",
        "bohb_tuner = Tuner(\n",
        "    train_model_tune,\n",
        "    param_space=bohb_search_space,\n",
        "    tune_config=tune.TuneConfig(\n",
        "        metric=\"accuracy\",  # Use 'accuracy' as the metric\n",
        "        mode=\"max\",\n",
        "        search_alg=OptunaSearch(),\n",
        "        num_samples=10  # Run 10 different trials\n",
        "    )\n",
        ")\n",
        "bohb_results = bohb_tuner.fit()\n",
        "\n",
        "# Combine Results into DataFrames\n",
        "def get_results_df(results):\n",
        "    df = results.get_dataframe()\n",
        "    return df[[\"config/batch_size\", \"config/learning_rate\", \"config/epochs\", \"accuracy\", \"f1_score\"]]\n",
        "\n",
        "grid_df = get_results_df(grid_results)\n",
        "random_df = get_results_df(random_results)\n",
        "hyperband_df = get_results_df(hyperband_results)\n",
        "bohb_df = get_results_df(bohb_results)\n",
        "\n",
        "# Add Search Method Column\n",
        "grid_df[\"Method\"] = \"Grid Search\"\n",
        "random_df[\"Method\"] = \"Random Search\"\n",
        "hyperband_df[\"Method\"] = \"Hyperband\"\n",
        "bohb_df[\"Method\"] = \"Bayesian Optimization\"\n",
        "\n",
        "# Combine all results\n",
        "final_results_df = pd.concat([grid_df, random_df, hyperband_df, bohb_df])\n",
        "print(final_results_df)"
      ],
      "metadata": {
        "colab": {
          "base_uri": "https://localhost:8080/",
          "height": 1000
        },
        "id": "lQZaFuW-ymfw",
        "outputId": "f229cb8d-47dd-4884-f236-1a110897b80c"
      },
      "execution_count": null,
      "outputs": [
        {
          "output_type": "stream",
          "name": "stderr",
          "text": [
            "2025-02-26 16:26:28,851\tINFO worker.py:1672 -- Calling ray.init() again after it has already been called.\n"
          ]
        },
        {
          "output_type": "stream",
          "name": "stdout",
          "text": [
            "+-------------------------------------------------------------------------+\n",
            "| Configuration for experiment     train_model_tune_2025-02-26_16-26-28   |\n",
            "+-------------------------------------------------------------------------+\n",
            "| Search algorithm                 BasicVariantGenerator                  |\n",
            "| Scheduler                        FIFOScheduler                          |\n",
            "| Number of trials                 27                                     |\n",
            "+-------------------------------------------------------------------------+\n",
            "\n",
            "View detailed results here: /root/ray_results/train_model_tune_2025-02-26_16-26-28\n",
            "To visualize your results with TensorBoard, run: `tensorboard --logdir /tmp/ray/session_2025-02-26_15-36-45_146730_149/artifacts/2025-02-26_16-26-28/train_model_tune_2025-02-26_16-26-28/driver_artifacts`\n",
            "\n",
            "Trial status: 27 PENDING\n",
            "Current time: 2025-02-26 16:26:29. Total running time: 0s\n",
            "Logical resource usage: 0/2 CPUs, 0/0 GPUs\n",
            "+-------------------------------------------------------------------------------------+\n",
            "| Trial name                     status       batch_size     learning_rate     epochs |\n",
            "+-------------------------------------------------------------------------------------+\n",
            "| train_model_tune_6e703_00000   PENDING              16             0.001         10 |\n",
            "| train_model_tune_6e703_00001   PENDING              32             0.001         10 |\n",
            "| train_model_tune_6e703_00002   PENDING              64             0.001         10 |\n",
            "| train_model_tune_6e703_00003   PENDING              16             0.001         20 |\n",
            "| train_model_tune_6e703_00004   PENDING              32             0.001         20 |\n",
            "+-------------------------------------------------------------------------------------+\n",
            "22 more PENDING\n"
          ]
        },
        {
          "output_type": "stream",
          "name": "stderr",
          "text": [
            "2025-02-26 16:26:29,506\tWARNING tune.py:219 -- Stop signal received (e.g. via SIGINT/Ctrl+C), ending Ray Tune run. This will try to checkpoint the experiment state one last time. Press CTRL+C (or send SIGINT/SIGKILL/SIGTERM) to skip. \n",
            "2025-02-26 16:26:29,514\tINFO tune.py:1009 -- Wrote the latest version of all result files and experiment state to '/root/ray_results/train_model_tune_2025-02-26_16-26-28' in 0.0072s.\n",
            "2025-02-26 16:26:29,548\tWARNING tune.py:1056 -- Experiment has been interrupted, but the most recent state was saved.\n",
            "Resume experiment with: Tuner.restore(path=\"/root/ray_results/train_model_tune_2025-02-26_16-26-28\", trainable=...)\n",
            "2025-02-26 16:26:29,559\tWARNING experiment_analysis.py:180 -- Failed to fetch metrics for 27 trial(s):\n",
            "- train_model_tune_6e703_00000: FileNotFoundError('Could not fetch metrics for train_model_tune_6e703_00000: both result.json and progress.csv were not found at /root/ray_results/train_model_tune_2025-02-26_16-26-28/train_model_tune_6e703_00000_0_batch_size=16,epochs=10,learning_rate=0.0010_2025-02-26_16-26-28')\n",
            "- train_model_tune_6e703_00001: FileNotFoundError('Could not fetch metrics for train_model_tune_6e703_00001: both result.json and progress.csv were not found at /root/ray_results/train_model_tune_2025-02-26_16-26-28/train_model_tune_6e703_00001_1_batch_size=32,epochs=10,learning_rate=0.0010_2025-02-26_16-26-28')\n",
            "- train_model_tune_6e703_00002: FileNotFoundError('Could not fetch metrics for train_model_tune_6e703_00002: both result.json and progress.csv were not found at /root/ray_results/train_model_tune_2025-02-26_16-26-28/train_model_tune_6e703_00002_2_batch_size=64,epochs=10,learning_rate=0.0010_2025-02-26_16-26-28')\n",
            "- train_model_tune_6e703_00003: FileNotFoundError('Could not fetch metrics for train_model_tune_6e703_00003: both result.json and progress.csv were not found at /root/ray_results/train_model_tune_2025-02-26_16-26-28/train_model_tune_6e703_00003_3_batch_size=16,epochs=20,learning_rate=0.0010_2025-02-26_16-26-28')\n",
            "- train_model_tune_6e703_00004: FileNotFoundError('Could not fetch metrics for train_model_tune_6e703_00004: both result.json and progress.csv were not found at /root/ray_results/train_model_tune_2025-02-26_16-26-28/train_model_tune_6e703_00004_4_batch_size=32,epochs=20,learning_rate=0.0010_2025-02-26_16-26-28')\n",
            "- train_model_tune_6e703_00005: FileNotFoundError('Could not fetch metrics for train_model_tune_6e703_00005: both result.json and progress.csv were not found at /root/ray_results/train_model_tune_2025-02-26_16-26-28/train_model_tune_6e703_00005_5_batch_size=64,epochs=20,learning_rate=0.0010_2025-02-26_16-26-28')\n",
            "- train_model_tune_6e703_00006: FileNotFoundError('Could not fetch metrics for train_model_tune_6e703_00006: both result.json and progress.csv were not found at /root/ray_results/train_model_tune_2025-02-26_16-26-28/train_model_tune_6e703_00006_6_batch_size=16,epochs=30,learning_rate=0.0010_2025-02-26_16-26-28')\n",
            "- train_model_tune_6e703_00007: FileNotFoundError('Could not fetch metrics for train_model_tune_6e703_00007: both result.json and progress.csv were not found at /root/ray_results/train_model_tune_2025-02-26_16-26-28/train_model_tune_6e703_00007_7_batch_size=32,epochs=30,learning_rate=0.0010_2025-02-26_16-26-28')\n",
            "- train_model_tune_6e703_00008: FileNotFoundError('Could not fetch metrics for train_model_tune_6e703_00008: both result.json and progress.csv were not found at /root/ray_results/train_model_tune_2025-02-26_16-26-28/train_model_tune_6e703_00008_8_batch_size=64,epochs=30,learning_rate=0.0010_2025-02-26_16-26-28')\n",
            "- train_model_tune_6e703_00009: FileNotFoundError('Could not fetch metrics for train_model_tune_6e703_00009: both result.json and progress.csv were not found at /root/ray_results/train_model_tune_2025-02-26_16-26-28/train_model_tune_6e703_00009_9_batch_size=16,epochs=10,learning_rate=0.0100_2025-02-26_16-26-28')\n",
            "- train_model_tune_6e703_00010: FileNotFoundError('Could not fetch metrics for train_model_tune_6e703_00010: both result.json and progress.csv were not found at /root/ray_results/train_model_tune_2025-02-26_16-26-28/train_model_tune_6e703_00010_10_batch_size=32,epochs=10,learning_rate=0.0100_2025-02-26_16-26-28')\n",
            "- train_model_tune_6e703_00011: FileNotFoundError('Could not fetch metrics for train_model_tune_6e703_00011: both result.json and progress.csv were not found at /root/ray_results/train_model_tune_2025-02-26_16-26-28/train_model_tune_6e703_00011_11_batch_size=64,epochs=10,learning_rate=0.0100_2025-02-26_16-26-28')\n",
            "- train_model_tune_6e703_00012: FileNotFoundError('Could not fetch metrics for train_model_tune_6e703_00012: both result.json and progress.csv were not found at /root/ray_results/train_model_tune_2025-02-26_16-26-28/train_model_tune_6e703_00012_12_batch_size=16,epochs=20,learning_rate=0.0100_2025-02-26_16-26-28')\n",
            "- train_model_tune_6e703_00013: FileNotFoundError('Could not fetch metrics for train_model_tune_6e703_00013: both result.json and progress.csv were not found at /root/ray_results/train_model_tune_2025-02-26_16-26-28/train_model_tune_6e703_00013_13_batch_size=32,epochs=20,learning_rate=0.0100_2025-02-26_16-26-29')\n",
            "- train_model_tune_6e703_00014: FileNotFoundError('Could not fetch metrics for train_model_tune_6e703_00014: both result.json and progress.csv were not found at /root/ray_results/train_model_tune_2025-02-26_16-26-28/train_model_tune_6e703_00014_14_batch_size=64,epochs=20,learning_rate=0.0100_2025-02-26_16-26-29')\n",
            "- train_model_tune_6e703_00015: FileNotFoundError('Could not fetch metrics for train_model_tune_6e703_00015: both result.json and progress.csv were not found at /root/ray_results/train_model_tune_2025-02-26_16-26-28/train_model_tune_6e703_00015_15_batch_size=16,epochs=30,learning_rate=0.0100_2025-02-26_16-26-29')\n",
            "- train_model_tune_6e703_00016: FileNotFoundError('Could not fetch metrics for train_model_tune_6e703_00016: both result.json and progress.csv were not found at /root/ray_results/train_model_tune_2025-02-26_16-26-28/train_model_tune_6e703_00016_16_batch_size=32,epochs=30,learning_rate=0.0100_2025-02-26_16-26-29')\n",
            "- train_model_tune_6e703_00017: FileNotFoundError('Could not fetch metrics for train_model_tune_6e703_00017: both result.json and progress.csv were not found at /root/ray_results/train_model_tune_2025-02-26_16-26-28/train_model_tune_6e703_00017_17_batch_size=64,epochs=30,learning_rate=0.0100_2025-02-26_16-26-29')\n",
            "- train_model_tune_6e703_00018: FileNotFoundError('Could not fetch metrics for train_model_tune_6e703_00018: both result.json and progress.csv were not found at /root/ray_results/train_model_tune_2025-02-26_16-26-28/train_model_tune_6e703_00018_18_batch_size=16,epochs=10,learning_rate=0.0001_2025-02-26_16-26-29')\n",
            "- train_model_tune_6e703_00019: FileNotFoundError('Could not fetch metrics for train_model_tune_6e703_00019: both result.json and progress.csv were not found at /root/ray_results/train_model_tune_2025-02-26_16-26-28/train_model_tune_6e703_00019_19_batch_size=32,epochs=10,learning_rate=0.0001_2025-02-26_16-26-29')\n",
            "- train_model_tune_6e703_00020: FileNotFoundError('Could not fetch metrics for train_model_tune_6e703_00020: both result.json and progress.csv were not found at /root/ray_results/train_model_tune_2025-02-26_16-26-28/train_model_tune_6e703_00020_20_batch_size=64,epochs=10,learning_rate=0.0001_2025-02-26_16-26-29')\n",
            "- train_model_tune_6e703_00021: FileNotFoundError('Could not fetch metrics for train_model_tune_6e703_00021: both result.json and progress.csv were not found at /root/ray_results/train_model_tune_2025-02-26_16-26-28/train_model_tune_6e703_00021_21_batch_size=16,epochs=20,learning_rate=0.0001_2025-02-26_16-26-29')\n",
            "- train_model_tune_6e703_00022: FileNotFoundError('Could not fetch metrics for train_model_tune_6e703_00022: both result.json and progress.csv were not found at /root/ray_results/train_model_tune_2025-02-26_16-26-28/train_model_tune_6e703_00022_22_batch_size=32,epochs=20,learning_rate=0.0001_2025-02-26_16-26-29')\n",
            "- train_model_tune_6e703_00023: FileNotFoundError('Could not fetch metrics for train_model_tune_6e703_00023: both result.json and progress.csv were not found at /root/ray_results/train_model_tune_2025-02-26_16-26-28/train_model_tune_6e703_00023_23_batch_size=64,epochs=20,learning_rate=0.0001_2025-02-26_16-26-29')\n",
            "- train_model_tune_6e703_00024: FileNotFoundError('Could not fetch metrics for train_model_tune_6e703_00024: both result.json and progress.csv were not found at /root/ray_results/train_model_tune_2025-02-26_16-26-28/train_model_tune_6e703_00024_24_batch_size=16,epochs=30,learning_rate=0.0001_2025-02-26_16-26-29')\n",
            "- train_model_tune_6e703_00025: FileNotFoundError('Could not fetch metrics for train_model_tune_6e703_00025: both result.json and progress.csv were not found at /root/ray_results/train_model_tune_2025-02-26_16-26-28/train_model_tune_6e703_00025_25_batch_size=32,epochs=30,learning_rate=0.0001_2025-02-26_16-26-29')\n",
            "- train_model_tune_6e703_00026: FileNotFoundError('Could not fetch metrics for train_model_tune_6e703_00026: both result.json and progress.csv were not found at /root/ray_results/train_model_tune_2025-02-26_16-26-28/train_model_tune_6e703_00026_26_batch_size=64,epochs=30,learning_rate=0.0001_2025-02-26_16-26-29')\n"
          ]
        },
        {
          "output_type": "stream",
          "name": "stdout",
          "text": [
            "Trial status: 27 PENDING\n",
            "Current time: 2025-02-26 16:26:29. Total running time: 0s\n",
            "Logical resource usage: 0/2 CPUs, 0/0 GPUs\n",
            "+-------------------------------------------------------------------------------------+\n",
            "| Trial name                     status       batch_size     learning_rate     epochs |\n",
            "+-------------------------------------------------------------------------------------+\n",
            "| train_model_tune_6e703_00000   PENDING              16            0.001          10 |\n",
            "| train_model_tune_6e703_00001   PENDING              32            0.001          10 |\n",
            "| train_model_tune_6e703_00002   PENDING              64            0.001          10 |\n",
            "| train_model_tune_6e703_00003   PENDING              16            0.001          20 |\n",
            "| train_model_tune_6e703_00004   PENDING              32            0.001          20 |\n",
            "| train_model_tune_6e703_00005   PENDING              64            0.001          20 |\n",
            "| train_model_tune_6e703_00006   PENDING              16            0.001          30 |\n",
            "| train_model_tune_6e703_00007   PENDING              32            0.001          30 |\n",
            "| train_model_tune_6e703_00008   PENDING              64            0.001          30 |\n",
            "| train_model_tune_6e703_00009   PENDING              16            0.01           10 |\n",
            "| train_model_tune_6e703_00010   PENDING              32            0.01           10 |\n",
            "| train_model_tune_6e703_00011   PENDING              64            0.01           10 |\n",
            "| train_model_tune_6e703_00012   PENDING              16            0.01           20 |\n",
            "| train_model_tune_6e703_00013   PENDING              32            0.01           20 |\n",
            "| train_model_tune_6e703_00014   PENDING              64            0.01           20 |\n",
            "| train_model_tune_6e703_00015   PENDING              16            0.01           30 |\n",
            "| train_model_tune_6e703_00016   PENDING              32            0.01           30 |\n",
            "| train_model_tune_6e703_00017   PENDING              64            0.01           30 |\n",
            "| train_model_tune_6e703_00018   PENDING              16            0.0001         10 |\n",
            "| train_model_tune_6e703_00019   PENDING              32            0.0001         10 |\n",
            "| train_model_tune_6e703_00020   PENDING              64            0.0001         10 |\n",
            "| train_model_tune_6e703_00021   PENDING              16            0.0001         20 |\n",
            "| train_model_tune_6e703_00022   PENDING              32            0.0001         20 |\n",
            "| train_model_tune_6e703_00023   PENDING              64            0.0001         20 |\n",
            "| train_model_tune_6e703_00024   PENDING              16            0.0001         30 |\n",
            "| train_model_tune_6e703_00025   PENDING              32            0.0001         30 |\n",
            "| train_model_tune_6e703_00026   PENDING              64            0.0001         30 |\n",
            "+-------------------------------------------------------------------------------------+\n",
            "\n",
            "+-------------------------------------------------------------------------+\n",
            "| Configuration for experiment     train_model_tune_2025-02-26_16-26-29   |\n",
            "+-------------------------------------------------------------------------+\n",
            "| Search algorithm                 BasicVariantGenerator                  |\n",
            "| Scheduler                        FIFOScheduler                          |\n",
            "| Number of trials                 10                                     |\n",
            "+-------------------------------------------------------------------------+\n",
            "\n",
            "View detailed results here: /root/ray_results/train_model_tune_2025-02-26_16-26-29\n",
            "To visualize your results with TensorBoard, run: `tensorboard --logdir /tmp/ray/session_2025-02-26_15-36-45_146730_149/artifacts/2025-02-26_16-26-29/train_model_tune_2025-02-26_16-26-29/driver_artifacts`\n",
            "\n",
            "Trial status: 10 PENDING\n",
            "Current time: 2025-02-26 16:26:29. Total running time: 0s\n",
            "Logical resource usage: 1.0/2 CPUs, 0/0 GPUs\n",
            "+-------------------------------------------------------------------------------------+\n",
            "| Trial name                     status       batch_size     learning_rate     epochs |\n",
            "+-------------------------------------------------------------------------------------+\n",
            "| train_model_tune_6edc4_00000   PENDING              32       0.00106943          20 |\n",
            "| train_model_tune_6edc4_00001   PENDING              16       0.000270118         10 |\n",
            "| train_model_tune_6edc4_00002   PENDING              32       0.000487164         30 |\n",
            "| train_model_tune_6edc4_00003   PENDING              32       0.000257311         30 |\n",
            "| train_model_tune_6edc4_00004   PENDING              16       0.00110104          20 |\n",
            "| train_model_tune_6edc4_00005   PENDING              32       0.00892938          10 |\n",
            "| train_model_tune_6edc4_00006   PENDING              64       0.000511808         30 |\n",
            "| train_model_tune_6edc4_00007   PENDING              16       0.00818881          20 |\n",
            "| train_model_tune_6edc4_00008   PENDING              16       0.007528            30 |\n",
            "| train_model_tune_6edc4_00009   PENDING              64       0.000407813         20 |\n",
            "+-------------------------------------------------------------------------------------+\n"
          ]
        },
        {
          "output_type": "stream",
          "name": "stderr",
          "text": [
            "2025-02-26 16:26:30,633\tWARNING tune.py:219 -- Stop signal received (e.g. via SIGINT/Ctrl+C), ending Ray Tune run. This will try to checkpoint the experiment state one last time. Press CTRL+C (or send SIGINT/SIGKILL/SIGTERM) to skip. \n",
            "2025-02-26 16:26:30,647\tINFO tune.py:1009 -- Wrote the latest version of all result files and experiment state to '/root/ray_results/train_model_tune_2025-02-26_16-26-29' in 0.0128s.\n"
          ]
        },
        {
          "output_type": "stream",
          "name": "stdout",
          "text": [
            "Trial status: 10 PENDING\n",
            "Current time: 2025-02-26 16:26:30. Total running time: 1s\n",
            "Logical resource usage: 1.0/2 CPUs, 0/0 GPUs\n",
            "+-------------------------------------------------------------------------------------+\n",
            "| Trial name                     status       batch_size     learning_rate     epochs |\n",
            "+-------------------------------------------------------------------------------------+\n",
            "| train_model_tune_6edc4_00000   PENDING              32       0.00106943          20 |\n",
            "| train_model_tune_6edc4_00001   PENDING              16       0.000270118         10 |\n",
            "| train_model_tune_6edc4_00002   PENDING              32       0.000487164         30 |\n",
            "| train_model_tune_6edc4_00003   PENDING              32       0.000257311         30 |\n",
            "| train_model_tune_6edc4_00004   PENDING              16       0.00110104          20 |\n",
            "| train_model_tune_6edc4_00005   PENDING              32       0.00892938          10 |\n",
            "| train_model_tune_6edc4_00006   PENDING              64       0.000511808         30 |\n",
            "| train_model_tune_6edc4_00007   PENDING              16       0.00818881          20 |\n",
            "| train_model_tune_6edc4_00008   PENDING              16       0.007528            30 |\n",
            "| train_model_tune_6edc4_00009   PENDING              64       0.000407813         20 |\n",
            "+-------------------------------------------------------------------------------------+\n"
          ]
        },
        {
          "output_type": "error",
          "ename": "KeyboardInterrupt",
          "evalue": "",
          "traceback": [
            "\u001b[0;31m---------------------------------------------------------------------------\u001b[0m",
            "\u001b[0;31mKeyboardInterrupt\u001b[0m                         Traceback (most recent call last)",
            "\u001b[0;32m<ipython-input-81-b1a28a60da6d>\u001b[0m in \u001b[0;36m<cell line: 0>\u001b[0;34m()\u001b[0m\n\u001b[1;32m    115\u001b[0m     )\n\u001b[1;32m    116\u001b[0m )\n\u001b[0;32m--> 117\u001b[0;31m \u001b[0mrandom_results\u001b[0m \u001b[0;34m=\u001b[0m \u001b[0mrandom_tuner\u001b[0m\u001b[0;34m.\u001b[0m\u001b[0mfit\u001b[0m\u001b[0;34m(\u001b[0m\u001b[0;34m)\u001b[0m\u001b[0;34m\u001b[0m\u001b[0;34m\u001b[0m\u001b[0m\n\u001b[0m\u001b[1;32m    118\u001b[0m \u001b[0;34m\u001b[0m\u001b[0m\n\u001b[1;32m    119\u001b[0m \u001b[0;31m# Run Hyperband Search\u001b[0m\u001b[0;34m\u001b[0m\u001b[0;34m\u001b[0m\u001b[0m\n",
            "\u001b[0;32m/usr/local/lib/python3.11/dist-packages/ray/tune/tuner.py\u001b[0m in \u001b[0;36mfit\u001b[0;34m(self)\u001b[0m\n\u001b[1;32m    375\u001b[0m \u001b[0;34m\u001b[0m\u001b[0m\n\u001b[1;32m    376\u001b[0m         \u001b[0;32mif\u001b[0m \u001b[0;32mnot\u001b[0m \u001b[0mself\u001b[0m\u001b[0;34m.\u001b[0m\u001b[0m_is_ray_client\u001b[0m\u001b[0;34m:\u001b[0m\u001b[0;34m\u001b[0m\u001b[0;34m\u001b[0m\u001b[0m\n\u001b[0;32m--> 377\u001b[0;31m             \u001b[0;32mreturn\u001b[0m \u001b[0mself\u001b[0m\u001b[0;34m.\u001b[0m\u001b[0m_local_tuner\u001b[0m\u001b[0;34m.\u001b[0m\u001b[0mfit\u001b[0m\u001b[0;34m(\u001b[0m\u001b[0;34m)\u001b[0m\u001b[0;34m\u001b[0m\u001b[0;34m\u001b[0m\u001b[0m\n\u001b[0m\u001b[1;32m    378\u001b[0m         \u001b[0;32melse\u001b[0m\u001b[0;34m:\u001b[0m\u001b[0;34m\u001b[0m\u001b[0;34m\u001b[0m\u001b[0m\n\u001b[1;32m    379\u001b[0m             (\n",
            "\u001b[0;32m/usr/local/lib/python3.11/dist-packages/ray/tune/impl/tuner_internal.py\u001b[0m in \u001b[0;36mfit\u001b[0;34m(self)\u001b[0m\n\u001b[1;32m    499\u001b[0m         \u001b[0mparam_space\u001b[0m \u001b[0;34m=\u001b[0m \u001b[0mcopy\u001b[0m\u001b[0;34m.\u001b[0m\u001b[0mdeepcopy\u001b[0m\u001b[0;34m(\u001b[0m\u001b[0mself\u001b[0m\u001b[0;34m.\u001b[0m\u001b[0mparam_space\u001b[0m\u001b[0;34m)\u001b[0m\u001b[0;34m\u001b[0m\u001b[0;34m\u001b[0m\u001b[0m\n\u001b[1;32m    500\u001b[0m         \u001b[0;32mif\u001b[0m \u001b[0;32mnot\u001b[0m \u001b[0mself\u001b[0m\u001b[0;34m.\u001b[0m\u001b[0m_is_restored\u001b[0m\u001b[0;34m:\u001b[0m\u001b[0;34m\u001b[0m\u001b[0;34m\u001b[0m\u001b[0m\n\u001b[0;32m--> 501\u001b[0;31m             \u001b[0manalysis\u001b[0m \u001b[0;34m=\u001b[0m \u001b[0mself\u001b[0m\u001b[0;34m.\u001b[0m\u001b[0m_fit_internal\u001b[0m\u001b[0;34m(\u001b[0m\u001b[0mtrainable\u001b[0m\u001b[0;34m,\u001b[0m \u001b[0mparam_space\u001b[0m\u001b[0;34m)\u001b[0m\u001b[0;34m\u001b[0m\u001b[0;34m\u001b[0m\u001b[0m\n\u001b[0m\u001b[1;32m    502\u001b[0m         \u001b[0;32melse\u001b[0m\u001b[0;34m:\u001b[0m\u001b[0;34m\u001b[0m\u001b[0;34m\u001b[0m\u001b[0m\n\u001b[1;32m    503\u001b[0m             \u001b[0manalysis\u001b[0m \u001b[0;34m=\u001b[0m \u001b[0mself\u001b[0m\u001b[0;34m.\u001b[0m\u001b[0m_fit_resume\u001b[0m\u001b[0;34m(\u001b[0m\u001b[0mtrainable\u001b[0m\u001b[0;34m,\u001b[0m \u001b[0mparam_space\u001b[0m\u001b[0;34m)\u001b[0m\u001b[0;34m\u001b[0m\u001b[0;34m\u001b[0m\u001b[0m\n",
            "\u001b[0;32m/usr/local/lib/python3.11/dist-packages/ray/tune/impl/tuner_internal.py\u001b[0m in \u001b[0;36m_fit_internal\u001b[0;34m(self, trainable, param_space)\u001b[0m\n\u001b[1;32m    615\u001b[0m             \u001b[0;34m**\u001b[0m\u001b[0mself\u001b[0m\u001b[0;34m.\u001b[0m\u001b[0m_tuner_kwargs\u001b[0m\u001b[0;34m,\u001b[0m\u001b[0;34m\u001b[0m\u001b[0;34m\u001b[0m\u001b[0m\n\u001b[1;32m    616\u001b[0m         }\n\u001b[0;32m--> 617\u001b[0;31m         analysis = run(\n\u001b[0m\u001b[1;32m    618\u001b[0m             \u001b[0;34m**\u001b[0m\u001b[0margs\u001b[0m\u001b[0;34m,\u001b[0m\u001b[0;34m\u001b[0m\u001b[0;34m\u001b[0m\u001b[0m\n\u001b[1;32m    619\u001b[0m         )\n",
            "\u001b[0;32m/usr/local/lib/python3.11/dist-packages/ray/tune/tune.py\u001b[0m in \u001b[0;36mrun\u001b[0;34m(run_or_experiment, name, metric, mode, stop, time_budget_s, config, resources_per_trial, num_samples, storage_path, storage_filesystem, search_alg, scheduler, checkpoint_config, verbose, progress_reporter, log_to_file, trial_name_creator, trial_dirname_creator, sync_config, export_formats, max_failures, fail_fast, restore, resume, resume_config, reuse_actors, raise_on_failed_trial, callbacks, max_concurrent_trials, keep_checkpoints_num, checkpoint_score_attr, checkpoint_freq, checkpoint_at_end, chdir_to_trial_dir, local_dir, _remote, _remote_string_queue, _entrypoint)\u001b[0m\n\u001b[1;32m   1024\u001b[0m     \u001b[0mall_trials\u001b[0m \u001b[0;34m=\u001b[0m \u001b[0mrunner\u001b[0m\u001b[0;34m.\u001b[0m\u001b[0mget_trials\u001b[0m\u001b[0;34m(\u001b[0m\u001b[0;34m)\u001b[0m\u001b[0;34m\u001b[0m\u001b[0;34m\u001b[0m\u001b[0m\n\u001b[1;32m   1025\u001b[0m \u001b[0;34m\u001b[0m\u001b[0m\n\u001b[0;32m-> 1026\u001b[0;31m     \u001b[0mrunner\u001b[0m\u001b[0;34m.\u001b[0m\u001b[0mcleanup\u001b[0m\u001b[0;34m(\u001b[0m\u001b[0;34m)\u001b[0m\u001b[0;34m\u001b[0m\u001b[0;34m\u001b[0m\u001b[0m\n\u001b[0m\u001b[1;32m   1027\u001b[0m \u001b[0;34m\u001b[0m\u001b[0m\n\u001b[1;32m   1028\u001b[0m     \u001b[0mincomplete_trials\u001b[0m \u001b[0;34m=\u001b[0m \u001b[0;34m[\u001b[0m\u001b[0;34m]\u001b[0m\u001b[0;34m\u001b[0m\u001b[0;34m\u001b[0m\u001b[0m\n",
            "\u001b[0;32m/usr/local/lib/python3.11/dist-packages/ray/tune/execution/tune_controller.py\u001b[0m in \u001b[0;36mcleanup\u001b[0;34m(self)\u001b[0m\n\u001b[1;32m   1973\u001b[0m     \u001b[0;32mdef\u001b[0m \u001b[0mcleanup\u001b[0m\u001b[0;34m(\u001b[0m\u001b[0mself\u001b[0m\u001b[0;34m)\u001b[0m\u001b[0;34m:\u001b[0m\u001b[0;34m\u001b[0m\u001b[0;34m\u001b[0m\u001b[0m\n\u001b[1;32m   1974\u001b[0m         \u001b[0;34m\"\"\"Cleanup trials and callbacks.\"\"\"\u001b[0m\u001b[0;34m\u001b[0m\u001b[0;34m\u001b[0m\u001b[0m\n\u001b[0;32m-> 1975\u001b[0;31m         \u001b[0mself\u001b[0m\u001b[0;34m.\u001b[0m\u001b[0m_cleanup_trials\u001b[0m\u001b[0;34m(\u001b[0m\u001b[0;34m)\u001b[0m\u001b[0;34m\u001b[0m\u001b[0;34m\u001b[0m\u001b[0m\n\u001b[0m\u001b[1;32m   1976\u001b[0m         \u001b[0mself\u001b[0m\u001b[0;34m.\u001b[0m\u001b[0mend_experiment_callbacks\u001b[0m\u001b[0;34m(\u001b[0m\u001b[0;34m)\u001b[0m\u001b[0;34m\u001b[0m\u001b[0;34m\u001b[0m\u001b[0m\n\u001b[1;32m   1977\u001b[0m \u001b[0;34m\u001b[0m\u001b[0m\n",
            "\u001b[0;32m/usr/local/lib/python3.11/dist-packages/ray/tune/execution/tune_controller.py\u001b[0m in \u001b[0;36m_cleanup_trials\u001b[0;34m(self)\u001b[0m\n\u001b[1;32m    801\u001b[0m                     \u001b[0;34m\"Waiting for actor manager to clean up final state [dedup]\"\u001b[0m\u001b[0;34m\u001b[0m\u001b[0;34m\u001b[0m\u001b[0m\n\u001b[1;32m    802\u001b[0m                 )\n\u001b[0;32m--> 803\u001b[0;31m             \u001b[0mself\u001b[0m\u001b[0;34m.\u001b[0m\u001b[0m_actor_manager\u001b[0m\u001b[0;34m.\u001b[0m\u001b[0mnext\u001b[0m\u001b[0;34m(\u001b[0m\u001b[0mtimeout\u001b[0m\u001b[0;34m=\u001b[0m\u001b[0;36m1\u001b[0m\u001b[0;34m)\u001b[0m\u001b[0;34m\u001b[0m\u001b[0;34m\u001b[0m\u001b[0m\n\u001b[0m\u001b[1;32m    804\u001b[0m \u001b[0;34m\u001b[0m\u001b[0m\n\u001b[1;32m    805\u001b[0m         \u001b[0mlogger\u001b[0m\u001b[0;34m.\u001b[0m\u001b[0mdebug\u001b[0m\u001b[0;34m(\u001b[0m\u001b[0;34m\"Force cleanup of remaining actors\"\u001b[0m\u001b[0;34m)\u001b[0m\u001b[0;34m\u001b[0m\u001b[0;34m\u001b[0m\u001b[0m\n",
            "\u001b[0;32m/usr/local/lib/python3.11/dist-packages/ray/air/execution/_internal/actor_manager.py\u001b[0m in \u001b[0;36mnext\u001b[0;34m(self, timeout)\u001b[0m\n\u001b[1;32m    211\u001b[0m \u001b[0;34m\u001b[0m\u001b[0m\n\u001b[1;32m    212\u001b[0m         \u001b[0mstart_wait\u001b[0m \u001b[0;34m=\u001b[0m \u001b[0mtime\u001b[0m\u001b[0;34m.\u001b[0m\u001b[0mmonotonic\u001b[0m\u001b[0;34m(\u001b[0m\u001b[0;34m)\u001b[0m\u001b[0;34m\u001b[0m\u001b[0;34m\u001b[0m\u001b[0m\n\u001b[0;32m--> 213\u001b[0;31m         \u001b[0mready\u001b[0m\u001b[0;34m,\u001b[0m \u001b[0m_\u001b[0m \u001b[0;34m=\u001b[0m \u001b[0mray\u001b[0m\u001b[0;34m.\u001b[0m\u001b[0mwait\u001b[0m\u001b[0;34m(\u001b[0m\u001b[0mall_futures\u001b[0m\u001b[0;34m,\u001b[0m \u001b[0mnum_returns\u001b[0m\u001b[0;34m=\u001b[0m\u001b[0;36m1\u001b[0m\u001b[0;34m,\u001b[0m \u001b[0mtimeout\u001b[0m\u001b[0;34m=\u001b[0m\u001b[0mtimeout\u001b[0m\u001b[0;34m)\u001b[0m\u001b[0;34m\u001b[0m\u001b[0;34m\u001b[0m\u001b[0m\n\u001b[0m\u001b[1;32m    214\u001b[0m \u001b[0;34m\u001b[0m\u001b[0m\n\u001b[1;32m    215\u001b[0m         \u001b[0;32mif\u001b[0m \u001b[0;32mnot\u001b[0m \u001b[0mready\u001b[0m\u001b[0;34m:\u001b[0m\u001b[0;34m\u001b[0m\u001b[0;34m\u001b[0m\u001b[0m\n",
            "\u001b[0;32m/usr/local/lib/python3.11/dist-packages/ray/_private/auto_init_hook.py\u001b[0m in \u001b[0;36mauto_init_wrapper\u001b[0;34m(*args, **kwargs)\u001b[0m\n\u001b[1;32m     19\u001b[0m     \u001b[0;32mdef\u001b[0m \u001b[0mauto_init_wrapper\u001b[0m\u001b[0;34m(\u001b[0m\u001b[0;34m*\u001b[0m\u001b[0margs\u001b[0m\u001b[0;34m,\u001b[0m \u001b[0;34m**\u001b[0m\u001b[0mkwargs\u001b[0m\u001b[0;34m)\u001b[0m\u001b[0;34m:\u001b[0m\u001b[0;34m\u001b[0m\u001b[0;34m\u001b[0m\u001b[0m\n\u001b[1;32m     20\u001b[0m         \u001b[0mauto_init_ray\u001b[0m\u001b[0;34m(\u001b[0m\u001b[0;34m)\u001b[0m\u001b[0;34m\u001b[0m\u001b[0;34m\u001b[0m\u001b[0m\n\u001b[0;32m---> 21\u001b[0;31m         \u001b[0;32mreturn\u001b[0m \u001b[0mfn\u001b[0m\u001b[0;34m(\u001b[0m\u001b[0;34m*\u001b[0m\u001b[0margs\u001b[0m\u001b[0;34m,\u001b[0m \u001b[0;34m**\u001b[0m\u001b[0mkwargs\u001b[0m\u001b[0;34m)\u001b[0m\u001b[0;34m\u001b[0m\u001b[0;34m\u001b[0m\u001b[0m\n\u001b[0m\u001b[1;32m     22\u001b[0m \u001b[0;34m\u001b[0m\u001b[0m\n\u001b[1;32m     23\u001b[0m     \u001b[0;32mreturn\u001b[0m \u001b[0mauto_init_wrapper\u001b[0m\u001b[0;34m\u001b[0m\u001b[0;34m\u001b[0m\u001b[0m\n",
            "\u001b[0;32m/usr/local/lib/python3.11/dist-packages/ray/_private/client_mode_hook.py\u001b[0m in \u001b[0;36mwrapper\u001b[0;34m(*args, **kwargs)\u001b[0m\n\u001b[1;32m    101\u001b[0m             \u001b[0;32mif\u001b[0m \u001b[0mfunc\u001b[0m\u001b[0;34m.\u001b[0m\u001b[0m__name__\u001b[0m \u001b[0;34m!=\u001b[0m \u001b[0;34m\"init\"\u001b[0m \u001b[0;32mor\u001b[0m \u001b[0mis_client_mode_enabled_by_default\u001b[0m\u001b[0;34m:\u001b[0m\u001b[0;34m\u001b[0m\u001b[0;34m\u001b[0m\u001b[0m\n\u001b[1;32m    102\u001b[0m                 \u001b[0;32mreturn\u001b[0m \u001b[0mgetattr\u001b[0m\u001b[0;34m(\u001b[0m\u001b[0mray\u001b[0m\u001b[0;34m,\u001b[0m \u001b[0mfunc\u001b[0m\u001b[0;34m.\u001b[0m\u001b[0m__name__\u001b[0m\u001b[0;34m)\u001b[0m\u001b[0;34m(\u001b[0m\u001b[0;34m*\u001b[0m\u001b[0margs\u001b[0m\u001b[0;34m,\u001b[0m \u001b[0;34m**\u001b[0m\u001b[0mkwargs\u001b[0m\u001b[0;34m)\u001b[0m\u001b[0;34m\u001b[0m\u001b[0;34m\u001b[0m\u001b[0m\n\u001b[0;32m--> 103\u001b[0;31m         \u001b[0;32mreturn\u001b[0m \u001b[0mfunc\u001b[0m\u001b[0;34m(\u001b[0m\u001b[0;34m*\u001b[0m\u001b[0margs\u001b[0m\u001b[0;34m,\u001b[0m \u001b[0;34m**\u001b[0m\u001b[0mkwargs\u001b[0m\u001b[0;34m)\u001b[0m\u001b[0;34m\u001b[0m\u001b[0;34m\u001b[0m\u001b[0m\n\u001b[0m\u001b[1;32m    104\u001b[0m \u001b[0;34m\u001b[0m\u001b[0m\n\u001b[1;32m    105\u001b[0m     \u001b[0;32mreturn\u001b[0m \u001b[0mwrapper\u001b[0m\u001b[0;34m\u001b[0m\u001b[0;34m\u001b[0m\u001b[0m\n",
            "\u001b[0;32m/usr/local/lib/python3.11/dist-packages/ray/_private/worker.py\u001b[0m in \u001b[0;36mwait\u001b[0;34m(ray_waitables, num_returns, timeout, fetch_local)\u001b[0m\n\u001b[1;32m   3001\u001b[0m         \u001b[0mtimeout\u001b[0m \u001b[0;34m=\u001b[0m \u001b[0mtimeout\u001b[0m \u001b[0;32mif\u001b[0m \u001b[0mtimeout\u001b[0m \u001b[0;32mis\u001b[0m \u001b[0;32mnot\u001b[0m \u001b[0;32mNone\u001b[0m \u001b[0;32melse\u001b[0m \u001b[0;36m10\u001b[0m\u001b[0;34m**\u001b[0m\u001b[0;36m6\u001b[0m\u001b[0;34m\u001b[0m\u001b[0;34m\u001b[0m\u001b[0m\n\u001b[1;32m   3002\u001b[0m         \u001b[0mtimeout_milliseconds\u001b[0m \u001b[0;34m=\u001b[0m \u001b[0mint\u001b[0m\u001b[0;34m(\u001b[0m\u001b[0mtimeout\u001b[0m \u001b[0;34m*\u001b[0m \u001b[0;36m1000\u001b[0m\u001b[0;34m)\u001b[0m\u001b[0;34m\u001b[0m\u001b[0;34m\u001b[0m\u001b[0m\n\u001b[0;32m-> 3003\u001b[0;31m         ready_ids, remaining_ids = worker.core_worker.wait(\n\u001b[0m\u001b[1;32m   3004\u001b[0m             \u001b[0mray_waitables\u001b[0m\u001b[0;34m,\u001b[0m\u001b[0;34m\u001b[0m\u001b[0;34m\u001b[0m\u001b[0m\n\u001b[1;32m   3005\u001b[0m             \u001b[0mnum_returns\u001b[0m\u001b[0;34m,\u001b[0m\u001b[0;34m\u001b[0m\u001b[0;34m\u001b[0m\u001b[0m\n",
            "\u001b[0;32mpython/ray/_raylet.pyx\u001b[0m in \u001b[0;36mray._raylet.CoreWorker.wait\u001b[0;34m()\u001b[0m\n",
            "\u001b[0;32mpython/ray/includes/common.pxi\u001b[0m in \u001b[0;36mray._raylet.check_status\u001b[0;34m()\u001b[0m\n",
            "\u001b[0;31mKeyboardInterrupt\u001b[0m: "
          ]
        }
      ]
    }
  ],
  "metadata": {
    "colab": {
      "provenance": [],
      "include_colab_link": true
    },
    "kernelspec": {
      "display_name": "Python 3",
      "name": "python3"
    },
    "language_info": {
      "name": "python"
    }
  },
  "nbformat": 4,
  "nbformat_minor": 0
}